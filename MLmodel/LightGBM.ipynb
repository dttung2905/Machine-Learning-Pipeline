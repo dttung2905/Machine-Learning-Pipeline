{
 "cells": [
  {
   "cell_type": "code",
   "execution_count": 1,
   "metadata": {},
   "outputs": [],
   "source": [
    "import numpy as np\n",
    "import pandas as pd\n",
    "import lightgbm as lgb\n",
    "from sklearn.model_selection import KFold\n"
   ]
  },
  {
   "cell_type": "code",
   "execution_count": 2,
   "metadata": {},
   "outputs": [],
   "source": [
    "df = pd.read_csv('../dataset/Auto.csv')\n",
    "df['horsepower'] =df['horsepower'].replace('?',0)\n",
    "df['horsepower'] =df['horsepower'].astype(int)\n",
    "y = df['displacement']\n",
    "\n",
    "del df['name']"
   ]
  },
  {
   "cell_type": "code",
   "execution_count": 3,
   "metadata": {},
   "outputs": [
    {
     "data": {
      "text/html": [
       "<div>\n",
       "<style scoped>\n",
       "    .dataframe tbody tr th:only-of-type {\n",
       "        vertical-align: middle;\n",
       "    }\n",
       "\n",
       "    .dataframe tbody tr th {\n",
       "        vertical-align: top;\n",
       "    }\n",
       "\n",
       "    .dataframe thead th {\n",
       "        text-align: right;\n",
       "    }\n",
       "</style>\n",
       "<table border=\"1\" class=\"dataframe\">\n",
       "  <thead>\n",
       "    <tr style=\"text-align: right;\">\n",
       "      <th></th>\n",
       "      <th>mpg</th>\n",
       "      <th>cylinders</th>\n",
       "      <th>displacement</th>\n",
       "      <th>horsepower</th>\n",
       "      <th>weight</th>\n",
       "      <th>acceleration</th>\n",
       "      <th>year</th>\n",
       "      <th>origin</th>\n",
       "    </tr>\n",
       "  </thead>\n",
       "  <tbody>\n",
       "    <tr>\n",
       "      <th>0</th>\n",
       "      <td>18.0</td>\n",
       "      <td>8</td>\n",
       "      <td>307.0</td>\n",
       "      <td>130</td>\n",
       "      <td>3504</td>\n",
       "      <td>12.0</td>\n",
       "      <td>70</td>\n",
       "      <td>1</td>\n",
       "    </tr>\n",
       "    <tr>\n",
       "      <th>1</th>\n",
       "      <td>15.0</td>\n",
       "      <td>8</td>\n",
       "      <td>350.0</td>\n",
       "      <td>165</td>\n",
       "      <td>3693</td>\n",
       "      <td>11.5</td>\n",
       "      <td>70</td>\n",
       "      <td>1</td>\n",
       "    </tr>\n",
       "    <tr>\n",
       "      <th>2</th>\n",
       "      <td>18.0</td>\n",
       "      <td>8</td>\n",
       "      <td>318.0</td>\n",
       "      <td>150</td>\n",
       "      <td>3436</td>\n",
       "      <td>11.0</td>\n",
       "      <td>70</td>\n",
       "      <td>1</td>\n",
       "    </tr>\n",
       "    <tr>\n",
       "      <th>3</th>\n",
       "      <td>16.0</td>\n",
       "      <td>8</td>\n",
       "      <td>304.0</td>\n",
       "      <td>150</td>\n",
       "      <td>3433</td>\n",
       "      <td>12.0</td>\n",
       "      <td>70</td>\n",
       "      <td>1</td>\n",
       "    </tr>\n",
       "    <tr>\n",
       "      <th>4</th>\n",
       "      <td>17.0</td>\n",
       "      <td>8</td>\n",
       "      <td>302.0</td>\n",
       "      <td>140</td>\n",
       "      <td>3449</td>\n",
       "      <td>10.5</td>\n",
       "      <td>70</td>\n",
       "      <td>1</td>\n",
       "    </tr>\n",
       "  </tbody>\n",
       "</table>\n",
       "</div>"
      ],
      "text/plain": [
       "    mpg  cylinders  displacement  horsepower  weight  acceleration  year  \\\n",
       "0  18.0          8         307.0         130    3504          12.0    70   \n",
       "1  15.0          8         350.0         165    3693          11.5    70   \n",
       "2  18.0          8         318.0         150    3436          11.0    70   \n",
       "3  16.0          8         304.0         150    3433          12.0    70   \n",
       "4  17.0          8         302.0         140    3449          10.5    70   \n",
       "\n",
       "   origin  \n",
       "0       1  \n",
       "1       1  \n",
       "2       1  \n",
       "3       1  \n",
       "4       1  "
      ]
     },
     "execution_count": 3,
     "metadata": {},
     "output_type": "execute_result"
    }
   ],
   "source": [
    "df.head()"
   ]
  },
  {
   "cell_type": "code",
   "execution_count": 4,
   "metadata": {},
   "outputs": [
    {
     "data": {
      "text/plain": [
       "mpg             float64\n",
       "cylinders         int64\n",
       "displacement    float64\n",
       "horsepower        int64\n",
       "weight            int64\n",
       "acceleration    float64\n",
       "year              int64\n",
       "origin            int64\n",
       "dtype: object"
      ]
     },
     "execution_count": 4,
     "metadata": {},
     "output_type": "execute_result"
    }
   ],
   "source": [
    "df.dtypes"
   ]
  },
  {
   "cell_type": "code",
   "execution_count": 5,
   "metadata": {},
   "outputs": [],
   "source": [
    "#split it into train and test \n",
    "from sklearn.model_selection import train_test_split\n",
    "\n",
    "X_train, X_test, y_train , y_test = train_test_split(df, y,test_size = 0.33 , random_state = 1)\n",
    "\n",
    "X_train = pd.DataFrame(X_train, columns = df.columns)\n",
    "X_test = pd.DataFrame(X_test, columns = df.columns)\n"
   ]
  },
  {
   "cell_type": "code",
   "execution_count": 34,
   "metadata": {},
   "outputs": [
    {
     "name": "stdout",
     "output_type": "stream",
     "text": [
      "['mpg', 'cylinders', 'displacement', 'horsepower', 'weight', 'acceleration', 'year', 'origin']\n",
      "Starting training...\n",
      "fold 0 \n",
      "[1]\ttrain's rmse: 108.301\tvalid's rmse: 113.378\n",
      "[2]\ttrain's rmse: 107.827\tvalid's rmse: 113.277\n",
      "[3]\ttrain's rmse: 107.558\tvalid's rmse: 113.426\n",
      "[4]\ttrain's rmse: 107.349\tvalid's rmse: 113.543\n",
      "[5]\ttrain's rmse: 106.788\tvalid's rmse: 113.754\n",
      "[6]\ttrain's rmse: 106.435\tvalid's rmse: 114.235\n",
      "[7]\ttrain's rmse: 106.122\tvalid's rmse: 114.713\n",
      "[8]\ttrain's rmse: 105.845\tvalid's rmse: 115.183\n",
      "[9]\ttrain's rmse: 105.562\tvalid's rmse: 115.559\n",
      "[10]\ttrain's rmse: 105.352\tvalid's rmse: 116.06\n",
      "fold 1 \n",
      "[1]\ttrain's rmse: 110.464\tvalid's rmse: 111.153\n",
      "[2]\ttrain's rmse: 109.642\tvalid's rmse: 111.231\n",
      "[3]\ttrain's rmse: 109.144\tvalid's rmse: 111.299\n",
      "[4]\ttrain's rmse: 108.424\tvalid's rmse: 111.434\n",
      "[5]\ttrain's rmse: 107.994\tvalid's rmse: 111.543\n",
      "[6]\ttrain's rmse: 107.415\tvalid's rmse: 111.781\n",
      "[7]\ttrain's rmse: 107.014\tvalid's rmse: 111.93\n",
      "[8]\ttrain's rmse: 106.643\tvalid's rmse: 112\n",
      "[9]\ttrain's rmse: 106.309\tvalid's rmse: 112.17\n",
      "[10]\ttrain's rmse: 106.009\tvalid's rmse: 112.347\n"
     ]
    }
   ],
   "source": [
    "#Create dataset of lightgbm\n",
    "\n",
    "lgb_train = lgb.Dataset(X_train, y_train)\n",
    "lgb_eval = lgb.Dataset(X_test, y_test)\n",
    "\n",
    "#get number of feature and number of training rows\n",
    "num_train, num_feature = X_train.shape\n",
    "\n",
    "#Get parameters \n",
    "params = {\n",
    "    'boosting_type': 'gbdt',\n",
    "    'objective': 'regression',\n",
    "    'metric': 'rmse',\n",
    "    'num_leaves': 31,\n",
    "    'learning_rate': 0.05,\n",
    "    'feature_fraction': 0.9,\n",
    "    'bagging_fraction': 0.8,\n",
    "    'bagging_freq': 5,\n",
    "    'verbose': 0\n",
    "}\n",
    "\n",
    "\n",
    "#------------------------------------------------------------\n",
    "folds = KFold(n_splits=2, shuffle=True, random_state=123)\n",
    "\n",
    "oof_preds = np.zeros(X_train.shape[0])\n",
    "sub_preds = np.zeros(X_test.shape[0])\n",
    "\n",
    "feature_name = [col for col in X_train.columns]\n",
    "print(feature_name)\n",
    "print('Starting training...')\n",
    "for n_fold, (trn_idx, val_idx) in enumerate(folds.split(X_train)):\n",
    "    print('fold {} '.format(n_fold))\n",
    "    trn_x, trn_y = X_train[feature_name].iloc[trn_idx], y.iloc[trn_idx]\n",
    "    val_x, val_y = X_train[feature_name].iloc[val_idx], y.iloc[val_idx]\n",
    "    lgb_train = lgb.Dataset(trn_x, trn_y)\n",
    "    lgb_eval = lgb.Dataset(val_x, val_y)\n",
    "    gbm = lgb.train(params,\n",
    "                lgb_train,\n",
    "                num_boost_round=10,\n",
    "                valid_sets=[lgb_train,lgb_eval],\n",
    "                valid_names=['train', 'valid'],# eval training data\n",
    "                feature_name=feature_name,\n",
    "                categorical_feature=[21])\n",
    "    oof_preds[val_idx] = gbm.predict(val_x, num_iteration=gbm.best_iteration)\n",
    "    sub_preds += gbm.predict(X_test[feature_name], num_iteration=gbm.best_iteration) / folds.n_splits \n",
    "\n",
    "\n",
    "# print('Starting training...')\n",
    "# # feature_name and categorical_feature\n",
    "# gbm = lgb.train(params,\n",
    "#                 lgb_train,\n",
    "#                 num_boost_round=10,\n",
    "#                 valid_sets=lgb_train,  # eval training data\n",
    "#                 feature_name=feature_name,\n",
    "#                 categorical_feature=[21])"
   ]
  },
  {
   "cell_type": "code",
   "execution_count": null,
   "metadata": {},
   "outputs": [],
   "source": []
  }
 ],
 "metadata": {
  "kernelspec": {
   "display_name": "Python 3",
   "language": "python",
   "name": "python3"
  },
  "language_info": {
   "codemirror_mode": {
    "name": "ipython",
    "version": 3
   },
   "file_extension": ".py",
   "mimetype": "text/x-python",
   "name": "python",
   "nbconvert_exporter": "python",
   "pygments_lexer": "ipython3",
   "version": "3.7.2"
  }
 },
 "nbformat": 4,
 "nbformat_minor": 2
}
