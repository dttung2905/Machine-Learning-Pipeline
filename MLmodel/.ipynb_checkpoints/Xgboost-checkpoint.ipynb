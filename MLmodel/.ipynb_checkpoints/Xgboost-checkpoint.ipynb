{
 "cells": [
  {
   "cell_type": "code",
   "execution_count": 1,
   "metadata": {},
   "outputs": [],
   "source": [
    "import pandas as pd\n",
    "import numpy as np\n",
    "import xgboost as xgb"
   ]
  },
  {
   "cell_type": "code",
   "execution_count": 2,
   "metadata": {},
   "outputs": [],
   "source": [
    "from sklearn.model_selection import KFold\n",
    "import matplotlib.pyplot as plt\n",
    "import seaborn as sns"
   ]
  },
  {
   "cell_type": "code",
   "execution_count": 3,
   "metadata": {},
   "outputs": [],
   "source": [
    "df = pd.read_csv('../dataset/Auto.csv')\n",
    "df['horsepower'] =df['horsepower'].replace('?',0)\n",
    "df['horsepower'] =df['horsepower'].astype(int)\n",
    "y = df['displacement']\n",
    "\n",
    "del df['name']"
   ]
  },
  {
   "cell_type": "code",
   "execution_count": 4,
   "metadata": {},
   "outputs": [
    {
     "data": {
      "text/html": [
       "<div>\n",
       "<style scoped>\n",
       "    .dataframe tbody tr th:only-of-type {\n",
       "        vertical-align: middle;\n",
       "    }\n",
       "\n",
       "    .dataframe tbody tr th {\n",
       "        vertical-align: top;\n",
       "    }\n",
       "\n",
       "    .dataframe thead th {\n",
       "        text-align: right;\n",
       "    }\n",
       "</style>\n",
       "<table border=\"1\" class=\"dataframe\">\n",
       "  <thead>\n",
       "    <tr style=\"text-align: right;\">\n",
       "      <th></th>\n",
       "      <th>mpg</th>\n",
       "      <th>cylinders</th>\n",
       "      <th>displacement</th>\n",
       "      <th>horsepower</th>\n",
       "      <th>weight</th>\n",
       "      <th>acceleration</th>\n",
       "      <th>year</th>\n",
       "      <th>origin</th>\n",
       "    </tr>\n",
       "  </thead>\n",
       "  <tbody>\n",
       "    <tr>\n",
       "      <th>0</th>\n",
       "      <td>18.0</td>\n",
       "      <td>8</td>\n",
       "      <td>307.0</td>\n",
       "      <td>130</td>\n",
       "      <td>3504</td>\n",
       "      <td>12.0</td>\n",
       "      <td>70</td>\n",
       "      <td>1</td>\n",
       "    </tr>\n",
       "    <tr>\n",
       "      <th>1</th>\n",
       "      <td>15.0</td>\n",
       "      <td>8</td>\n",
       "      <td>350.0</td>\n",
       "      <td>165</td>\n",
       "      <td>3693</td>\n",
       "      <td>11.5</td>\n",
       "      <td>70</td>\n",
       "      <td>1</td>\n",
       "    </tr>\n",
       "    <tr>\n",
       "      <th>2</th>\n",
       "      <td>18.0</td>\n",
       "      <td>8</td>\n",
       "      <td>318.0</td>\n",
       "      <td>150</td>\n",
       "      <td>3436</td>\n",
       "      <td>11.0</td>\n",
       "      <td>70</td>\n",
       "      <td>1</td>\n",
       "    </tr>\n",
       "    <tr>\n",
       "      <th>3</th>\n",
       "      <td>16.0</td>\n",
       "      <td>8</td>\n",
       "      <td>304.0</td>\n",
       "      <td>150</td>\n",
       "      <td>3433</td>\n",
       "      <td>12.0</td>\n",
       "      <td>70</td>\n",
       "      <td>1</td>\n",
       "    </tr>\n",
       "    <tr>\n",
       "      <th>4</th>\n",
       "      <td>17.0</td>\n",
       "      <td>8</td>\n",
       "      <td>302.0</td>\n",
       "      <td>140</td>\n",
       "      <td>3449</td>\n",
       "      <td>10.5</td>\n",
       "      <td>70</td>\n",
       "      <td>1</td>\n",
       "    </tr>\n",
       "  </tbody>\n",
       "</table>\n",
       "</div>"
      ],
      "text/plain": [
       "    mpg  cylinders  displacement  horsepower  weight  acceleration  year  \\\n",
       "0  18.0          8         307.0         130    3504          12.0    70   \n",
       "1  15.0          8         350.0         165    3693          11.5    70   \n",
       "2  18.0          8         318.0         150    3436          11.0    70   \n",
       "3  16.0          8         304.0         150    3433          12.0    70   \n",
       "4  17.0          8         302.0         140    3449          10.5    70   \n",
       "\n",
       "   origin  \n",
       "0       1  \n",
       "1       1  \n",
       "2       1  \n",
       "3       1  \n",
       "4       1  "
      ]
     },
     "execution_count": 4,
     "metadata": {},
     "output_type": "execute_result"
    }
   ],
   "source": [
    "df.head()"
   ]
  },
  {
   "cell_type": "code",
   "execution_count": 5,
   "metadata": {},
   "outputs": [],
   "source": [
    "#split it into train and test \n",
    "from sklearn.model_selection import train_test_split\n",
    "\n",
    "X_train, X_test, y_train , y_test = train_test_split(df, y,test_size = 0.33 , random_state = 1)\n",
    "\n",
    "X_train = pd.DataFrame(X_train, columns = df.columns)\n",
    "X_test = pd.DataFrame(X_test, columns = df.columns)\n"
   ]
  },
  {
   "cell_type": "code",
   "execution_count": 28,
   "metadata": {},
   "outputs": [],
   "source": [
    "def gini_xgb(preds, dtrain):\n",
    "    labels = dtrain.get_label()\n",
    "    gini_score = gini_normalized(labels, preds)\n",
    "    return 'gini', gini_score"
   ]
  },
  {
   "cell_type": "code",
   "execution_count": 37,
   "metadata": {},
   "outputs": [
    {
     "name": "stdout",
     "output_type": "stream",
     "text": [
      "['mpg', 'cylinders', 'displacement', 'horsepower', 'weight', 'acceleration', 'year', 'origin']\n",
      "Starting training...\n",
      "fold 0 \n",
      "fold 1 \n"
     ]
    }
   ],
   "source": [
    "#Create dataset of lightgbm\n",
    "\n",
    "# lgb_train = lgb.Dataset(X_train, y_train)\n",
    "# lgb_eval = lgb.Dataset(X_test, y_test)\n",
    "\n",
    "#get number of feature and number of training rows\n",
    "num_train, num_feature = X_train.shape\n",
    "\n",
    "#Get parameters \n",
    "params = {\n",
    "#     'eta': 0.02,\n",
    "                  'max_depth': 4,\n",
    "#                   'subsample': 0.9,\n",
    "#                   'colsample_bytree': 0.9,\n",
    "#                   'objective': 'binary:logistic',\n",
    "#                   'eval_metric': 'auc',\n",
    "                  'seed': 99,\n",
    "                  'silent': True}\n",
    "\n",
    "#------------------------------------------------------------\n",
    "folds = KFold(n_splits=2, shuffle=True, random_state=123)\n",
    "\n",
    "oof_preds = np.zeros(X_train.shape[0])\n",
    "sub_preds = np.zeros(X_test.shape[0])\n",
    "feature_importance_df = pd.DataFrame()\n",
    "feature_name = [col for col in X_train.columns]\n",
    "print(feature_name)\n",
    "print('Starting training...')\n",
    "for n_fold, (trn_idx, val_idx) in enumerate(folds.split(X_train)):\n",
    "    print('fold {} '.format(n_fold))\n",
    "    trn_x, trn_y = X_train[feature_name].iloc[trn_idx], y.iloc[trn_idx]\n",
    "    val_x, val_y = X_train[feature_name].iloc[val_idx], y.iloc[val_idx]\n",
    "    xgb_train = xgb.DMatrix(trn_x, trn_y)\n",
    "    xgb_eval = xgb.DMatrix(val_x, val_y)\n",
    "    xgb_test = xgb.DMatrix(X_test[feature_name])\n",
    "    \n",
    "    watchlist = [(xgb_train, 'train'), (xgb_eval, 'eval')]\n",
    "    \n",
    "    gbm = xgb.train(params,xgb_train,feval=gini_xgb,verbose_eval = -1)\n",
    "    \n",
    "    oof_preds[val_idx] = gbm.predict(xgb.DMatrix(val_x)) #get oof prediction\n",
    "    \n",
    "    #predict on test set, take average\n",
    "    sub_preds += gbm.predict(xgb_test) / folds.n_splits \n",
    "    \n",
    "    #save the feature important \n",
    "#     fold_importance_df = pd.DataFrame()\n",
    "#     fold_importance_df[\"feature\"] = feature_name\n",
    "#     fold_importance_df[\"importance\"] = np.log1p(gbm.feature_importances_)\n",
    "#     df = pd.DataFrame(gbm.get_fscore().items(), columns=['feature','importance']).sort_values('importance', ascending=False)\n",
    "\n",
    "#     fold_importance_df[\"fold\"] = n_fold + 1\n",
    "#     feature_importance_df = pd.concat([feature_importance_df, fold_importance_df], axis=0)"
   ]
  },
  {
   "cell_type": "code",
   "execution_count": null,
   "metadata": {},
   "outputs": [],
   "source": []
  }
 ],
 "metadata": {
  "kernelspec": {
   "display_name": "Python 3",
   "language": "python",
   "name": "python3"
  },
  "language_info": {
   "codemirror_mode": {
    "name": "ipython",
    "version": 3
   },
   "file_extension": ".py",
   "mimetype": "text/x-python",
   "name": "python",
   "nbconvert_exporter": "python",
   "pygments_lexer": "ipython3",
   "version": "3.7.2"
  }
 },
 "nbformat": 4,
 "nbformat_minor": 2
}
