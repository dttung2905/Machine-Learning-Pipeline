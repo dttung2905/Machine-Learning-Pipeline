{
 "cells": [
  {
   "cell_type": "markdown",
   "metadata": {},
   "source": [
    "- <a href='#0'>0. Importing data</a>  \n",
    "- <a href='#1'>1. Data Cleaning</a>\n",
    "    - <a href='#1-1'>1.1 Check for missing data</a>\n",
    "    - <a href='#1-2'>1.2 Convert data type</a>\n",
    "    - <a href='#1-3'>1.3 General Observation : 80-20 rule</a>\n",
    "\n",
    "- <a href='#2'> 2. Cusomter Profiling</a>\n",
    "    - <a href='#2-1'>2.1 Life time purchase amount</a>\n",
    "    - <a href='#2-2'>2.2 Marital status</a>\n",
    "    - <a href='#2-3'>2.3 Children</a>\n",
    "    - <a href='#2-4'>2.4 User age</a>\n",
    "    - <a href='#2-5'>2.5 Life time purchase amount</a>\n",
    "    - <a href='#2-6'>2.6 Logged-in count</a>\n",
    "- <a href='#3'> 3. Cusomter recommendation</a>\n",
    "    - <a href='#3-1'>3.1 Random Forest Classifier</a>\n",
    "    - <a href='#3-2'>3.2 Collaborative Filtering</a>"
   ]
  },
  {
   "cell_type": "markdown",
   "metadata": {},
   "source": [
    "## <a id='0'>0. Importing data</a>"
   ]
  },
  {
   "cell_type": "code",
   "execution_count": 1,
   "metadata": {},
   "outputs": [],
   "source": [
    "import pandas as pd\n",
    "import matplotlib.pyplot as plt\n",
    "import seaborn as sns\n",
    "import numpy as np\n",
    "from matplotlib import rc\n",
    "%matplotlib inline"
   ]
  },
  {
   "cell_type": "code",
   "execution_count": 2,
   "metadata": {},
   "outputs": [
    {
     "name": "stdout",
     "output_type": "stream",
     "text": [
      "Wall time: 1min 25s\n"
     ]
    }
   ],
   "source": [
    "%%time\n",
    "df = pd.read_excel('rakuten_user_data.xlsx')\n",
    "df.head()"
   ]
  },
  {
   "cell_type": "code",
   "execution_count": 3,
   "metadata": {},
   "outputs": [
    {
     "data": {
      "text/plain": [
       "(1048575, 14)"
      ]
     },
     "execution_count": 3,
     "metadata": {},
     "output_type": "execute_result"
    }
   ],
   "source": [
    "df.shape\n"
   ]
  },
  {
   "cell_type": "code",
   "execution_count": 4,
   "metadata": {},
   "outputs": [
    {
     "data": {
      "text/html": [
       "<div>\n",
       "<style scoped>\n",
       "    .dataframe tbody tr th:only-of-type {\n",
       "        vertical-align: middle;\n",
       "    }\n",
       "\n",
       "    .dataframe tbody tr th {\n",
       "        vertical-align: top;\n",
       "    }\n",
       "\n",
       "    .dataframe thead th {\n",
       "        text-align: right;\n",
       "    }\n",
       "</style>\n",
       "<table border=\"1\" class=\"dataframe\">\n",
       "  <thead>\n",
       "    <tr style=\"text-align: right;\">\n",
       "      <th></th>\n",
       "      <th>user_id</th>\n",
       "      <th>gender</th>\n",
       "      <th>user_age</th>\n",
       "      <th>area_code</th>\n",
       "      <th>marital_flg</th>\n",
       "      <th>children_flg</th>\n",
       "      <th>lifetime_purchase_amt</th>\n",
       "      <th>lifetime_purchase_cnt</th>\n",
       "      <th>login_cnt_1m</th>\n",
       "      <th>login_cnt_3m</th>\n",
       "      <th>login_cnt_6m</th>\n",
       "      <th>shop_a_flg</th>\n",
       "      <th>shop_b_flg</th>\n",
       "      <th>shop_c_flg</th>\n",
       "    </tr>\n",
       "  </thead>\n",
       "  <tbody>\n",
       "    <tr>\n",
       "      <th>0</th>\n",
       "      <td>0</td>\n",
       "      <td>2</td>\n",
       "      <td>57.0</td>\n",
       "      <td>22.0</td>\n",
       "      <td>1</td>\n",
       "      <td>1</td>\n",
       "      <td>3800.0</td>\n",
       "      <td>297.0</td>\n",
       "      <td>32.0</td>\n",
       "      <td>90.0</td>\n",
       "      <td>188.0</td>\n",
       "      <td>1</td>\n",
       "      <td>0</td>\n",
       "      <td>0</td>\n",
       "    </tr>\n",
       "    <tr>\n",
       "      <th>1</th>\n",
       "      <td>1</td>\n",
       "      <td>2</td>\n",
       "      <td>54.0</td>\n",
       "      <td>13.0</td>\n",
       "      <td>0</td>\n",
       "      <td>0</td>\n",
       "      <td>92836.0</td>\n",
       "      <td>2409.0</td>\n",
       "      <td>38.0</td>\n",
       "      <td>103.0</td>\n",
       "      <td>246.0</td>\n",
       "      <td>0</td>\n",
       "      <td>1</td>\n",
       "      <td>0</td>\n",
       "    </tr>\n",
       "    <tr>\n",
       "      <th>2</th>\n",
       "      <td>2</td>\n",
       "      <td>2</td>\n",
       "      <td>42.0</td>\n",
       "      <td>20.0</td>\n",
       "      <td>2</td>\n",
       "      <td>2</td>\n",
       "      <td>90282.0</td>\n",
       "      <td>1786.0</td>\n",
       "      <td>59.0</td>\n",
       "      <td>160.0</td>\n",
       "      <td>284.0</td>\n",
       "      <td>1</td>\n",
       "      <td>0</td>\n",
       "      <td>0</td>\n",
       "    </tr>\n",
       "    <tr>\n",
       "      <th>3</th>\n",
       "      <td>3</td>\n",
       "      <td>1</td>\n",
       "      <td>55.0</td>\n",
       "      <td>26.0</td>\n",
       "      <td>1</td>\n",
       "      <td>1</td>\n",
       "      <td>151439.0</td>\n",
       "      <td>2984.0</td>\n",
       "      <td>35.0</td>\n",
       "      <td>146.0</td>\n",
       "      <td>342.0</td>\n",
       "      <td>0</td>\n",
       "      <td>1</td>\n",
       "      <td>0</td>\n",
       "    </tr>\n",
       "    <tr>\n",
       "      <th>4</th>\n",
       "      <td>4</td>\n",
       "      <td>2</td>\n",
       "      <td>55.0</td>\n",
       "      <td>13.0</td>\n",
       "      <td>1</td>\n",
       "      <td>1</td>\n",
       "      <td>101005.0</td>\n",
       "      <td>2728.0</td>\n",
       "      <td>103.0</td>\n",
       "      <td>418.0</td>\n",
       "      <td>824.0</td>\n",
       "      <td>0</td>\n",
       "      <td>1</td>\n",
       "      <td>0</td>\n",
       "    </tr>\n",
       "    <tr>\n",
       "      <th>5</th>\n",
       "      <td>5</td>\n",
       "      <td>1</td>\n",
       "      <td>50.0</td>\n",
       "      <td>42.0</td>\n",
       "      <td>1</td>\n",
       "      <td>1</td>\n",
       "      <td>18119.0</td>\n",
       "      <td>364.0</td>\n",
       "      <td>2.0</td>\n",
       "      <td>48.0</td>\n",
       "      <td>84.0</td>\n",
       "      <td>0</td>\n",
       "      <td>1</td>\n",
       "      <td>0</td>\n",
       "    </tr>\n",
       "    <tr>\n",
       "      <th>6</th>\n",
       "      <td>6</td>\n",
       "      <td>2</td>\n",
       "      <td>57.0</td>\n",
       "      <td>13.0</td>\n",
       "      <td>0</td>\n",
       "      <td>0</td>\n",
       "      <td>37301.0</td>\n",
       "      <td>1061.0</td>\n",
       "      <td>25.0</td>\n",
       "      <td>112.0</td>\n",
       "      <td>163.0</td>\n",
       "      <td>1</td>\n",
       "      <td>0</td>\n",
       "      <td>0</td>\n",
       "    </tr>\n",
       "    <tr>\n",
       "      <th>7</th>\n",
       "      <td>7</td>\n",
       "      <td>2</td>\n",
       "      <td>55.0</td>\n",
       "      <td>15.0</td>\n",
       "      <td>2</td>\n",
       "      <td>2</td>\n",
       "      <td>20356.0</td>\n",
       "      <td>1073.0</td>\n",
       "      <td>125.0</td>\n",
       "      <td>428.0</td>\n",
       "      <td>817.0</td>\n",
       "      <td>0</td>\n",
       "      <td>1</td>\n",
       "      <td>0</td>\n",
       "    </tr>\n",
       "    <tr>\n",
       "      <th>8</th>\n",
       "      <td>8</td>\n",
       "      <td>1</td>\n",
       "      <td>41.0</td>\n",
       "      <td>13.0</td>\n",
       "      <td>0</td>\n",
       "      <td>0</td>\n",
       "      <td>7195.0</td>\n",
       "      <td>184.0</td>\n",
       "      <td>17.0</td>\n",
       "      <td>54.0</td>\n",
       "      <td>133.0</td>\n",
       "      <td>0</td>\n",
       "      <td>1</td>\n",
       "      <td>0</td>\n",
       "    </tr>\n",
       "    <tr>\n",
       "      <th>9</th>\n",
       "      <td>9</td>\n",
       "      <td>2</td>\n",
       "      <td>52.0</td>\n",
       "      <td>33.0</td>\n",
       "      <td>2</td>\n",
       "      <td>2</td>\n",
       "      <td>74087.0</td>\n",
       "      <td>1888.0</td>\n",
       "      <td>31.0</td>\n",
       "      <td>133.0</td>\n",
       "      <td>223.0</td>\n",
       "      <td>1</td>\n",
       "      <td>0</td>\n",
       "      <td>0</td>\n",
       "    </tr>\n",
       "  </tbody>\n",
       "</table>\n",
       "</div>"
      ],
      "text/plain": [
       "   user_id  gender  user_age  area_code  marital_flg  children_flg  \\\n",
       "0        0       2      57.0       22.0            1             1   \n",
       "1        1       2      54.0       13.0            0             0   \n",
       "2        2       2      42.0       20.0            2             2   \n",
       "3        3       1      55.0       26.0            1             1   \n",
       "4        4       2      55.0       13.0            1             1   \n",
       "5        5       1      50.0       42.0            1             1   \n",
       "6        6       2      57.0       13.0            0             0   \n",
       "7        7       2      55.0       15.0            2             2   \n",
       "8        8       1      41.0       13.0            0             0   \n",
       "9        9       2      52.0       33.0            2             2   \n",
       "\n",
       "   lifetime_purchase_amt  lifetime_purchase_cnt  login_cnt_1m  login_cnt_3m  \\\n",
       "0                 3800.0                  297.0          32.0          90.0   \n",
       "1                92836.0                 2409.0          38.0         103.0   \n",
       "2                90282.0                 1786.0          59.0         160.0   \n",
       "3               151439.0                 2984.0          35.0         146.0   \n",
       "4               101005.0                 2728.0         103.0         418.0   \n",
       "5                18119.0                  364.0           2.0          48.0   \n",
       "6                37301.0                 1061.0          25.0         112.0   \n",
       "7                20356.0                 1073.0         125.0         428.0   \n",
       "8                 7195.0                  184.0          17.0          54.0   \n",
       "9                74087.0                 1888.0          31.0         133.0   \n",
       "\n",
       "   login_cnt_6m  shop_a_flg  shop_b_flg  shop_c_flg  \n",
       "0         188.0           1           0           0  \n",
       "1         246.0           0           1           0  \n",
       "2         284.0           1           0           0  \n",
       "3         342.0           0           1           0  \n",
       "4         824.0           0           1           0  \n",
       "5          84.0           0           1           0  \n",
       "6         163.0           1           0           0  \n",
       "7         817.0           0           1           0  \n",
       "8         133.0           0           1           0  \n",
       "9         223.0           1           0           0  "
      ]
     },
     "execution_count": 4,
     "metadata": {},
     "output_type": "execute_result"
    }
   ],
   "source": [
    "df.head(10)"
   ]
  },
  {
   "cell_type": "markdown",
   "metadata": {},
   "source": [
    "## <a id='1'>1. Data Cleaning</a>"
   ]
  },
  {
   "cell_type": "markdown",
   "metadata": {},
   "source": [
    " ### <a id='1-1|'>1.1 Check for missing data</a>"
   ]
  },
  {
   "cell_type": "code",
   "execution_count": 5,
   "metadata": {},
   "outputs": [
    {
     "data": {
      "text/html": [
       "<div>\n",
       "<style scoped>\n",
       "    .dataframe tbody tr th:only-of-type {\n",
       "        vertical-align: middle;\n",
       "    }\n",
       "\n",
       "    .dataframe tbody tr th {\n",
       "        vertical-align: top;\n",
       "    }\n",
       "\n",
       "    .dataframe thead th {\n",
       "        text-align: right;\n",
       "    }\n",
       "</style>\n",
       "<table border=\"1\" class=\"dataframe\">\n",
       "  <thead>\n",
       "    <tr style=\"text-align: right;\">\n",
       "      <th></th>\n",
       "      <th>missing_count</th>\n",
       "      <th>missing_ratio_percentage</th>\n",
       "    </tr>\n",
       "  </thead>\n",
       "  <tbody>\n",
       "    <tr>\n",
       "      <th>lifetime_purchase_amt</th>\n",
       "      <td>65241</td>\n",
       "      <td>6.221873</td>\n",
       "    </tr>\n",
       "    <tr>\n",
       "      <th>lifetime_purchase_cnt</th>\n",
       "      <td>65241</td>\n",
       "      <td>6.221873</td>\n",
       "    </tr>\n",
       "    <tr>\n",
       "      <th>user_age</th>\n",
       "      <td>3113</td>\n",
       "      <td>0.296879</td>\n",
       "    </tr>\n",
       "    <tr>\n",
       "      <th>area_code</th>\n",
       "      <td>2280</td>\n",
       "      <td>0.217438</td>\n",
       "    </tr>\n",
       "    <tr>\n",
       "      <th>login_cnt_1m</th>\n",
       "      <td>782</td>\n",
       "      <td>0.074577</td>\n",
       "    </tr>\n",
       "    <tr>\n",
       "      <th>login_cnt_3m</th>\n",
       "      <td>782</td>\n",
       "      <td>0.074577</td>\n",
       "    </tr>\n",
       "    <tr>\n",
       "      <th>login_cnt_6m</th>\n",
       "      <td>782</td>\n",
       "      <td>0.074577</td>\n",
       "    </tr>\n",
       "    <tr>\n",
       "      <th>user_id</th>\n",
       "      <td>0</td>\n",
       "      <td>0.000000</td>\n",
       "    </tr>\n",
       "    <tr>\n",
       "      <th>gender</th>\n",
       "      <td>0</td>\n",
       "      <td>0.000000</td>\n",
       "    </tr>\n",
       "    <tr>\n",
       "      <th>marital_flg</th>\n",
       "      <td>0</td>\n",
       "      <td>0.000000</td>\n",
       "    </tr>\n",
       "    <tr>\n",
       "      <th>children_flg</th>\n",
       "      <td>0</td>\n",
       "      <td>0.000000</td>\n",
       "    </tr>\n",
       "    <tr>\n",
       "      <th>shop_a_flg</th>\n",
       "      <td>0</td>\n",
       "      <td>0.000000</td>\n",
       "    </tr>\n",
       "    <tr>\n",
       "      <th>shop_b_flg</th>\n",
       "      <td>0</td>\n",
       "      <td>0.000000</td>\n",
       "    </tr>\n",
       "    <tr>\n",
       "      <th>shop_c_flg</th>\n",
       "      <td>0</td>\n",
       "      <td>0.000000</td>\n",
       "    </tr>\n",
       "  </tbody>\n",
       "</table>\n",
       "</div>"
      ],
      "text/plain": [
       "                       missing_count  missing_ratio_percentage\n",
       "lifetime_purchase_amt          65241                  6.221873\n",
       "lifetime_purchase_cnt          65241                  6.221873\n",
       "user_age                        3113                  0.296879\n",
       "area_code                       2280                  0.217438\n",
       "login_cnt_1m                     782                  0.074577\n",
       "login_cnt_3m                     782                  0.074577\n",
       "login_cnt_6m                     782                  0.074577\n",
       "user_id                            0                  0.000000\n",
       "gender                             0                  0.000000\n",
       "marital_flg                        0                  0.000000\n",
       "children_flg                       0                  0.000000\n",
       "shop_a_flg                         0                  0.000000\n",
       "shop_b_flg                         0                  0.000000\n",
       "shop_c_flg                         0                  0.000000"
      ]
     },
     "execution_count": 5,
     "metadata": {},
     "output_type": "execute_result"
    }
   ],
   "source": [
    "def find_missing(data):\n",
    "    cnt_missing = data.isnull().sum().values #number of missing values\n",
    "    total = data.shape[0] # total records\n",
    "    ratio_missing = cnt_missing/total*100 #percentage of missing\n",
    "    \n",
    "    return pd.DataFrame(data ={'missing_count': cnt_missing, 'missing_ratio_percentage' : ratio_missing}, index = data.columns.values)\n",
    "df_missing = find_missing(df)\n",
    "df_missing.style.set_properties(**{'text-align': 'left'})\n",
    "df_missing.sort_values(['missing_count','missing_ratio_percentage'],ascending = False)"
   ]
  },
  {
   "cell_type": "markdown",
   "metadata": {},
   "source": [
    "It seems like both 'lifetime_purchase_amt' and 'lifetime_purchase_cnt' will have null value together. It can be because that particular customer have not spent anything on any of the shop yet. Lets verify "
   ]
  },
  {
   "cell_type": "code",
   "execution_count": 6,
   "metadata": {},
   "outputs": [
    {
     "data": {
      "text/html": [
       "<div>\n",
       "<style scoped>\n",
       "    .dataframe tbody tr th:only-of-type {\n",
       "        vertical-align: middle;\n",
       "    }\n",
       "\n",
       "    .dataframe tbody tr th {\n",
       "        vertical-align: top;\n",
       "    }\n",
       "\n",
       "    .dataframe thead th {\n",
       "        text-align: right;\n",
       "    }\n",
       "</style>\n",
       "<table border=\"1\" class=\"dataframe\">\n",
       "  <thead>\n",
       "    <tr style=\"text-align: right;\">\n",
       "      <th></th>\n",
       "      <th>user_id</th>\n",
       "      <th>gender</th>\n",
       "      <th>user_age</th>\n",
       "      <th>area_code</th>\n",
       "      <th>marital_flg</th>\n",
       "      <th>children_flg</th>\n",
       "      <th>lifetime_purchase_amt</th>\n",
       "      <th>lifetime_purchase_cnt</th>\n",
       "      <th>login_cnt_1m</th>\n",
       "      <th>login_cnt_3m</th>\n",
       "      <th>login_cnt_6m</th>\n",
       "      <th>shop_a_flg</th>\n",
       "      <th>shop_b_flg</th>\n",
       "      <th>shop_c_flg</th>\n",
       "    </tr>\n",
       "  </thead>\n",
       "  <tbody>\n",
       "    <tr>\n",
       "      <th>16353</th>\n",
       "      <td>16353</td>\n",
       "      <td>2</td>\n",
       "      <td>43.0</td>\n",
       "      <td>34.0</td>\n",
       "      <td>1</td>\n",
       "      <td>1</td>\n",
       "      <td>NaN</td>\n",
       "      <td>NaN</td>\n",
       "      <td>0.0</td>\n",
       "      <td>7.0</td>\n",
       "      <td>8.0</td>\n",
       "      <td>0</td>\n",
       "      <td>1</td>\n",
       "      <td>0</td>\n",
       "    </tr>\n",
       "    <tr>\n",
       "      <th>124297</th>\n",
       "      <td>124297</td>\n",
       "      <td>2</td>\n",
       "      <td>48.0</td>\n",
       "      <td>27.0</td>\n",
       "      <td>2</td>\n",
       "      <td>2</td>\n",
       "      <td>NaN</td>\n",
       "      <td>NaN</td>\n",
       "      <td>0.0</td>\n",
       "      <td>31.0</td>\n",
       "      <td>31.0</td>\n",
       "      <td>0</td>\n",
       "      <td>1</td>\n",
       "      <td>0</td>\n",
       "    </tr>\n",
       "    <tr>\n",
       "      <th>124301</th>\n",
       "      <td>124301</td>\n",
       "      <td>1</td>\n",
       "      <td>31.0</td>\n",
       "      <td>23.0</td>\n",
       "      <td>2</td>\n",
       "      <td>2</td>\n",
       "      <td>NaN</td>\n",
       "      <td>NaN</td>\n",
       "      <td>0.0</td>\n",
       "      <td>0.0</td>\n",
       "      <td>0.0</td>\n",
       "      <td>0</td>\n",
       "      <td>0</td>\n",
       "      <td>0</td>\n",
       "    </tr>\n",
       "    <tr>\n",
       "      <th>124304</th>\n",
       "      <td>124304</td>\n",
       "      <td>1</td>\n",
       "      <td>48.0</td>\n",
       "      <td>26.0</td>\n",
       "      <td>1</td>\n",
       "      <td>1</td>\n",
       "      <td>NaN</td>\n",
       "      <td>NaN</td>\n",
       "      <td>0.0</td>\n",
       "      <td>0.0</td>\n",
       "      <td>0.0</td>\n",
       "      <td>0</td>\n",
       "      <td>0</td>\n",
       "      <td>0</td>\n",
       "    </tr>\n",
       "    <tr>\n",
       "      <th>124315</th>\n",
       "      <td>124315</td>\n",
       "      <td>2</td>\n",
       "      <td>25.0</td>\n",
       "      <td>28.0</td>\n",
       "      <td>2</td>\n",
       "      <td>2</td>\n",
       "      <td>NaN</td>\n",
       "      <td>NaN</td>\n",
       "      <td>1.0</td>\n",
       "      <td>1.0</td>\n",
       "      <td>1.0</td>\n",
       "      <td>0</td>\n",
       "      <td>0</td>\n",
       "      <td>0</td>\n",
       "    </tr>\n",
       "    <tr>\n",
       "      <th>124316</th>\n",
       "      <td>124316</td>\n",
       "      <td>2</td>\n",
       "      <td>27.0</td>\n",
       "      <td>10.0</td>\n",
       "      <td>2</td>\n",
       "      <td>2</td>\n",
       "      <td>NaN</td>\n",
       "      <td>NaN</td>\n",
       "      <td>0.0</td>\n",
       "      <td>0.0</td>\n",
       "      <td>0.0</td>\n",
       "      <td>0</td>\n",
       "      <td>0</td>\n",
       "      <td>0</td>\n",
       "    </tr>\n",
       "    <tr>\n",
       "      <th>124328</th>\n",
       "      <td>124328</td>\n",
       "      <td>1</td>\n",
       "      <td>23.0</td>\n",
       "      <td>9.0</td>\n",
       "      <td>2</td>\n",
       "      <td>2</td>\n",
       "      <td>NaN</td>\n",
       "      <td>NaN</td>\n",
       "      <td>3.0</td>\n",
       "      <td>3.0</td>\n",
       "      <td>3.0</td>\n",
       "      <td>0</td>\n",
       "      <td>0</td>\n",
       "      <td>0</td>\n",
       "    </tr>\n",
       "    <tr>\n",
       "      <th>124338</th>\n",
       "      <td>124338</td>\n",
       "      <td>1</td>\n",
       "      <td>33.0</td>\n",
       "      <td>41.0</td>\n",
       "      <td>2</td>\n",
       "      <td>2</td>\n",
       "      <td>NaN</td>\n",
       "      <td>NaN</td>\n",
       "      <td>0.0</td>\n",
       "      <td>0.0</td>\n",
       "      <td>0.0</td>\n",
       "      <td>0</td>\n",
       "      <td>0</td>\n",
       "      <td>0</td>\n",
       "    </tr>\n",
       "    <tr>\n",
       "      <th>124343</th>\n",
       "      <td>124343</td>\n",
       "      <td>2</td>\n",
       "      <td>46.0</td>\n",
       "      <td>33.0</td>\n",
       "      <td>1</td>\n",
       "      <td>1</td>\n",
       "      <td>NaN</td>\n",
       "      <td>NaN</td>\n",
       "      <td>0.0</td>\n",
       "      <td>0.0</td>\n",
       "      <td>0.0</td>\n",
       "      <td>0</td>\n",
       "      <td>0</td>\n",
       "      <td>0</td>\n",
       "    </tr>\n",
       "    <tr>\n",
       "      <th>124344</th>\n",
       "      <td>124344</td>\n",
       "      <td>1</td>\n",
       "      <td>30.0</td>\n",
       "      <td>13.0</td>\n",
       "      <td>1</td>\n",
       "      <td>1</td>\n",
       "      <td>NaN</td>\n",
       "      <td>NaN</td>\n",
       "      <td>4.0</td>\n",
       "      <td>4.0</td>\n",
       "      <td>4.0</td>\n",
       "      <td>0</td>\n",
       "      <td>0</td>\n",
       "      <td>0</td>\n",
       "    </tr>\n",
       "  </tbody>\n",
       "</table>\n",
       "</div>"
      ],
      "text/plain": [
       "        user_id  gender  user_age  area_code  marital_flg  children_flg  \\\n",
       "16353     16353       2      43.0       34.0            1             1   \n",
       "124297   124297       2      48.0       27.0            2             2   \n",
       "124301   124301       1      31.0       23.0            2             2   \n",
       "124304   124304       1      48.0       26.0            1             1   \n",
       "124315   124315       2      25.0       28.0            2             2   \n",
       "124316   124316       2      27.0       10.0            2             2   \n",
       "124328   124328       1      23.0        9.0            2             2   \n",
       "124338   124338       1      33.0       41.0            2             2   \n",
       "124343   124343       2      46.0       33.0            1             1   \n",
       "124344   124344       1      30.0       13.0            1             1   \n",
       "\n",
       "        lifetime_purchase_amt  lifetime_purchase_cnt  login_cnt_1m  \\\n",
       "16353                     NaN                    NaN           0.0   \n",
       "124297                    NaN                    NaN           0.0   \n",
       "124301                    NaN                    NaN           0.0   \n",
       "124304                    NaN                    NaN           0.0   \n",
       "124315                    NaN                    NaN           1.0   \n",
       "124316                    NaN                    NaN           0.0   \n",
       "124328                    NaN                    NaN           3.0   \n",
       "124338                    NaN                    NaN           0.0   \n",
       "124343                    NaN                    NaN           0.0   \n",
       "124344                    NaN                    NaN           4.0   \n",
       "\n",
       "        login_cnt_3m  login_cnt_6m  shop_a_flg  shop_b_flg  shop_c_flg  \n",
       "16353            7.0           8.0           0           1           0  \n",
       "124297          31.0          31.0           0           1           0  \n",
       "124301           0.0           0.0           0           0           0  \n",
       "124304           0.0           0.0           0           0           0  \n",
       "124315           1.0           1.0           0           0           0  \n",
       "124316           0.0           0.0           0           0           0  \n",
       "124328           3.0           3.0           0           0           0  \n",
       "124338           0.0           0.0           0           0           0  \n",
       "124343           0.0           0.0           0           0           0  \n",
       "124344           4.0           4.0           0           0           0  "
      ]
     },
     "execution_count": 6,
     "metadata": {},
     "output_type": "execute_result"
    }
   ],
   "source": [
    "df[pd.isnull(df['lifetime_purchase_amt'])].head(10)"
   ]
  },
  {
   "cell_type": "markdown",
   "metadata": {},
   "source": [
    "Looks like alot of them with no shop indication ( not all) , I mean we can eliminate those entry to describe about the customer of each of the store "
   ]
  },
  {
   "cell_type": "code",
   "execution_count": 7,
   "metadata": {},
   "outputs": [
    {
     "name": "stdout",
     "output_type": "stream",
     "text": [
      "<class 'pandas.core.frame.DataFrame'>\n",
      "RangeIndex: 1048575 entries, 0 to 1048574\n",
      "Data columns (total 14 columns):\n",
      "user_id                  1048575 non-null int64\n",
      "gender                   1048575 non-null int64\n",
      "user_age                 1045462 non-null float64\n",
      "area_code                1046295 non-null float64\n",
      "marital_flg              1048575 non-null int64\n",
      "children_flg             1048575 non-null int64\n",
      "lifetime_purchase_amt    983334 non-null float64\n",
      "lifetime_purchase_cnt    983334 non-null float64\n",
      "login_cnt_1m             1047793 non-null float64\n",
      "login_cnt_3m             1047793 non-null float64\n",
      "login_cnt_6m             1047793 non-null float64\n",
      "shop_a_flg               1048575 non-null int64\n",
      "shop_b_flg               1048575 non-null int64\n",
      "shop_c_flg               1048575 non-null int64\n",
      "dtypes: float64(7), int64(7)\n",
      "memory usage: 112.0 MB\n"
     ]
    }
   ],
   "source": [
    "df.info()"
   ]
  },
  {
   "cell_type": "code",
   "execution_count": 8,
   "metadata": {},
   "outputs": [],
   "source": [
    "df =df.dropna()"
   ]
  },
  {
   "cell_type": "markdown",
   "metadata": {},
   "source": [
    " ### <a id='1-2'>1.2 Convert data type</a>"
   ]
  },
  {
   "cell_type": "code",
   "execution_count": 9,
   "metadata": {},
   "outputs": [
    {
     "name": "stdout",
     "output_type": "stream",
     "text": [
      "converting all float to integer\n",
      "<class 'pandas.core.frame.DataFrame'>\n",
      "Int64Index: 981566 entries, 0 to 1048574\n",
      "Data columns (total 14 columns):\n",
      "user_id                  981566 non-null int64\n",
      "gender                   981566 non-null int64\n",
      "user_age                 981566 non-null int64\n",
      "area_code                981566 non-null int64\n",
      "marital_flg              981566 non-null int64\n",
      "children_flg             981566 non-null int64\n",
      "lifetime_purchase_amt    981566 non-null int64\n",
      "lifetime_purchase_cnt    981566 non-null int64\n",
      "login_cnt_1m             981566 non-null int64\n",
      "login_cnt_3m             981566 non-null int64\n",
      "login_cnt_6m             981566 non-null int64\n",
      "shop_a_flg               981566 non-null int64\n",
      "shop_b_flg               981566 non-null int64\n",
      "shop_c_flg               981566 non-null int64\n",
      "dtypes: int64(14)\n",
      "memory usage: 112.3 MB\n"
     ]
    }
   ],
   "source": [
    "#drop missing value. its okay to drop now\n",
    "\n",
    "\n",
    "#convert from float to int\n",
    "df['lifetime_purchase_amt']=df['lifetime_purchase_amt'].astype('int64')\n",
    "df['lifetime_purchase_cnt']=df['lifetime_purchase_cnt'].astype('int64')\n",
    "df['login_cnt_1m']=df['login_cnt_1m'].astype('int64')\n",
    "df['login_cnt_3m']=df['login_cnt_3m'].astype('int64')\n",
    "df['login_cnt_6m']=df['login_cnt_6m'].astype('int64')\n",
    "df['user_age']=df['user_age'].astype('int64')\n",
    "df['area_code']=df['area_code'].astype('int64')\n",
    "print('converting all float to integer')\n",
    "df.info()\n"
   ]
  },
  {
   "cell_type": "markdown",
   "metadata": {},
   "source": [
    " ### <a id='1-3'>1.3 General Observation: 80-20 Rule</a>"
   ]
  },
  {
   "cell_type": "code",
   "execution_count": 10,
   "metadata": {},
   "outputs": [
    {
     "name": "stderr",
     "output_type": "stream",
     "text": [
      "C:\\Users\\daotung.thanh\\AppData\\Local\\Continuum\\anaconda3\\lib\\site-packages\\matplotlib\\axes\\_axes.py:6462: UserWarning: The 'normed' kwarg is deprecated, and has been replaced by the 'density' kwarg.\n",
      "  warnings.warn(\"The 'normed' kwarg is deprecated, and has been \"\n"
     ]
    },
    {
     "data": {
      "image/png": "[encoded data removed]",
      "text/plain": [
       "<Figure size 864x432 with 1 Axes>"
      ]
     },
     "metadata": {},
     "output_type": "display_data"
    }
   ],
   "source": [
    "plt.figure(figsize = [12,6])\n",
    "sns.distplot(df['lifetime_purchase_amt'])\n",
    "plt.xlabel('Lifetime purchase amount')\n",
    "plt.show()"
   ]
  },
  {
   "cell_type": "code",
   "execution_count": 11,
   "metadata": {},
   "outputs": [],
   "source": [
    "df['log_lifetime_purchase_amt'] = np.log1p(df['lifetime_purchase_amt'] +1) +0.01"
   ]
  },
  {
   "cell_type": "code",
   "execution_count": 12,
   "metadata": {},
   "outputs": [
    {
     "data": {
      "text/html": [
       "<div>\n",
       "<style scoped>\n",
       "    .dataframe tbody tr th:only-of-type {\n",
       "        vertical-align: middle;\n",
       "    }\n",
       "\n",
       "    .dataframe tbody tr th {\n",
       "        vertical-align: top;\n",
       "    }\n",
       "\n",
       "    .dataframe thead th {\n",
       "        text-align: right;\n",
       "    }\n",
       "</style>\n",
       "<table border=\"1\" class=\"dataframe\">\n",
       "  <thead>\n",
       "    <tr style=\"text-align: right;\">\n",
       "      <th></th>\n",
       "      <th>user_id</th>\n",
       "      <th>gender</th>\n",
       "      <th>user_age</th>\n",
       "      <th>area_code</th>\n",
       "      <th>marital_flg</th>\n",
       "      <th>children_flg</th>\n",
       "      <th>lifetime_purchase_amt</th>\n",
       "      <th>lifetime_purchase_cnt</th>\n",
       "      <th>login_cnt_1m</th>\n",
       "      <th>login_cnt_3m</th>\n",
       "      <th>login_cnt_6m</th>\n",
       "      <th>shop_a_flg</th>\n",
       "      <th>shop_b_flg</th>\n",
       "      <th>shop_c_flg</th>\n",
       "      <th>log_lifetime_purchase_amt</th>\n",
       "    </tr>\n",
       "  </thead>\n",
       "  <tbody>\n",
       "    <tr>\n",
       "      <th>0</th>\n",
       "      <td>0</td>\n",
       "      <td>2</td>\n",
       "      <td>57</td>\n",
       "      <td>22</td>\n",
       "      <td>1</td>\n",
       "      <td>1</td>\n",
       "      <td>3800</td>\n",
       "      <td>297</td>\n",
       "      <td>32</td>\n",
       "      <td>90</td>\n",
       "      <td>188</td>\n",
       "      <td>1</td>\n",
       "      <td>0</td>\n",
       "      <td>0</td>\n",
       "      <td>8.253283</td>\n",
       "    </tr>\n",
       "    <tr>\n",
       "      <th>1</th>\n",
       "      <td>1</td>\n",
       "      <td>2</td>\n",
       "      <td>54</td>\n",
       "      <td>13</td>\n",
       "      <td>0</td>\n",
       "      <td>0</td>\n",
       "      <td>92836</td>\n",
       "      <td>2409</td>\n",
       "      <td>38</td>\n",
       "      <td>103</td>\n",
       "      <td>246</td>\n",
       "      <td>0</td>\n",
       "      <td>1</td>\n",
       "      <td>0</td>\n",
       "      <td>11.448611</td>\n",
       "    </tr>\n",
       "    <tr>\n",
       "      <th>2</th>\n",
       "      <td>2</td>\n",
       "      <td>2</td>\n",
       "      <td>42</td>\n",
       "      <td>20</td>\n",
       "      <td>2</td>\n",
       "      <td>2</td>\n",
       "      <td>90282</td>\n",
       "      <td>1786</td>\n",
       "      <td>59</td>\n",
       "      <td>160</td>\n",
       "      <td>284</td>\n",
       "      <td>1</td>\n",
       "      <td>0</td>\n",
       "      <td>0</td>\n",
       "      <td>11.420716</td>\n",
       "    </tr>\n",
       "    <tr>\n",
       "      <th>3</th>\n",
       "      <td>3</td>\n",
       "      <td>1</td>\n",
       "      <td>55</td>\n",
       "      <td>26</td>\n",
       "      <td>1</td>\n",
       "      <td>1</td>\n",
       "      <td>151439</td>\n",
       "      <td>2984</td>\n",
       "      <td>35</td>\n",
       "      <td>146</td>\n",
       "      <td>342</td>\n",
       "      <td>0</td>\n",
       "      <td>1</td>\n",
       "      <td>0</td>\n",
       "      <td>11.937951</td>\n",
       "    </tr>\n",
       "    <tr>\n",
       "      <th>4</th>\n",
       "      <td>4</td>\n",
       "      <td>2</td>\n",
       "      <td>55</td>\n",
       "      <td>13</td>\n",
       "      <td>1</td>\n",
       "      <td>1</td>\n",
       "      <td>101005</td>\n",
       "      <td>2728</td>\n",
       "      <td>103</td>\n",
       "      <td>418</td>\n",
       "      <td>824</td>\n",
       "      <td>0</td>\n",
       "      <td>1</td>\n",
       "      <td>0</td>\n",
       "      <td>11.532945</td>\n",
       "    </tr>\n",
       "    <tr>\n",
       "      <th>5</th>\n",
       "      <td>5</td>\n",
       "      <td>1</td>\n",
       "      <td>50</td>\n",
       "      <td>42</td>\n",
       "      <td>1</td>\n",
       "      <td>1</td>\n",
       "      <td>18119</td>\n",
       "      <td>364</td>\n",
       "      <td>2</td>\n",
       "      <td>48</td>\n",
       "      <td>84</td>\n",
       "      <td>0</td>\n",
       "      <td>1</td>\n",
       "      <td>0</td>\n",
       "      <td>9.814827</td>\n",
       "    </tr>\n",
       "    <tr>\n",
       "      <th>6</th>\n",
       "      <td>6</td>\n",
       "      <td>2</td>\n",
       "      <td>57</td>\n",
       "      <td>13</td>\n",
       "      <td>0</td>\n",
       "      <td>0</td>\n",
       "      <td>37301</td>\n",
       "      <td>1061</td>\n",
       "      <td>25</td>\n",
       "      <td>112</td>\n",
       "      <td>163</td>\n",
       "      <td>1</td>\n",
       "      <td>0</td>\n",
       "      <td>0</td>\n",
       "      <td>10.536829</td>\n",
       "    </tr>\n",
       "    <tr>\n",
       "      <th>7</th>\n",
       "      <td>7</td>\n",
       "      <td>2</td>\n",
       "      <td>55</td>\n",
       "      <td>15</td>\n",
       "      <td>2</td>\n",
       "      <td>2</td>\n",
       "      <td>20356</td>\n",
       "      <td>1073</td>\n",
       "      <td>125</td>\n",
       "      <td>428</td>\n",
       "      <td>817</td>\n",
       "      <td>0</td>\n",
       "      <td>1</td>\n",
       "      <td>0</td>\n",
       "      <td>9.931229</td>\n",
       "    </tr>\n",
       "    <tr>\n",
       "      <th>8</th>\n",
       "      <td>8</td>\n",
       "      <td>1</td>\n",
       "      <td>41</td>\n",
       "      <td>13</td>\n",
       "      <td>0</td>\n",
       "      <td>0</td>\n",
       "      <td>7195</td>\n",
       "      <td>184</td>\n",
       "      <td>17</td>\n",
       "      <td>54</td>\n",
       "      <td>133</td>\n",
       "      <td>0</td>\n",
       "      <td>1</td>\n",
       "      <td>0</td>\n",
       "      <td>8.891420</td>\n",
       "    </tr>\n",
       "    <tr>\n",
       "      <th>9</th>\n",
       "      <td>9</td>\n",
       "      <td>2</td>\n",
       "      <td>52</td>\n",
       "      <td>33</td>\n",
       "      <td>2</td>\n",
       "      <td>2</td>\n",
       "      <td>74087</td>\n",
       "      <td>1888</td>\n",
       "      <td>31</td>\n",
       "      <td>133</td>\n",
       "      <td>223</td>\n",
       "      <td>1</td>\n",
       "      <td>0</td>\n",
       "      <td>0</td>\n",
       "      <td>11.223022</td>\n",
       "    </tr>\n",
       "  </tbody>\n",
       "</table>\n",
       "</div>"
      ],
      "text/plain": [
       "   user_id  gender  user_age  area_code  marital_flg  children_flg  \\\n",
       "0        0       2        57         22            1             1   \n",
       "1        1       2        54         13            0             0   \n",
       "2        2       2        42         20            2             2   \n",
       "3        3       1        55         26            1             1   \n",
       "4        4       2        55         13            1             1   \n",
       "5        5       1        50         42            1             1   \n",
       "6        6       2        57         13            0             0   \n",
       "7        7       2        55         15            2             2   \n",
       "8        8       1        41         13            0             0   \n",
       "9        9       2        52         33            2             2   \n",
       "\n",
       "   lifetime_purchase_amt  lifetime_purchase_cnt  login_cnt_1m  login_cnt_3m  \\\n",
       "0                   3800                    297            32            90   \n",
       "1                  92836                   2409            38           103   \n",
       "2                  90282                   1786            59           160   \n",
       "3                 151439                   2984            35           146   \n",
       "4                 101005                   2728           103           418   \n",
       "5                  18119                    364             2            48   \n",
       "6                  37301                   1061            25           112   \n",
       "7                  20356                   1073           125           428   \n",
       "8                   7195                    184            17            54   \n",
       "9                  74087                   1888            31           133   \n",
       "\n",
       "   login_cnt_6m  shop_a_flg  shop_b_flg  shop_c_flg  log_lifetime_purchase_amt  \n",
       "0           188           1           0           0                   8.253283  \n",
       "1           246           0           1           0                  11.448611  \n",
       "2           284           1           0           0                  11.420716  \n",
       "3           342           0           1           0                  11.937951  \n",
       "4           824           0           1           0                  11.532945  \n",
       "5            84           0           1           0                   9.814827  \n",
       "6           163           1           0           0                  10.536829  \n",
       "7           817           0           1           0                   9.931229  \n",
       "8           133           0           1           0                   8.891420  \n",
       "9           223           1           0           0                  11.223022  "
      ]
     },
     "execution_count": 12,
     "metadata": {},
     "output_type": "execute_result"
    }
   ],
   "source": [
    "df.head(10)"
   ]
  },
  {
   "cell_type": "markdown",
   "metadata": {},
   "source": [
    "So the majority of people have zero spending so far. This is consistent to the 80-20 rule where 20% of the customer( or even less than that) are resposible for 80% of the revenue spending"
   ]
  },
  {
   "cell_type": "code",
   "execution_count": 13,
   "metadata": {},
   "outputs": [
    {
     "name": "stderr",
     "output_type": "stream",
     "text": [
      "C:\\Users\\daotung.thanh\\AppData\\Local\\Continuum\\anaconda3\\lib\\site-packages\\matplotlib\\axes\\_axes.py:6462: UserWarning: The 'normed' kwarg is deprecated, and has been replaced by the 'density' kwarg.\n",
      "  warnings.warn(\"The 'normed' kwarg is deprecated, and has been \"\n"
     ]
    },
    {
     "data": {
      "image/png": "[encoded data removed]",
      "text/plain": [
       "<Figure size 864x432 with 1 Axes>"
      ]
     },
     "metadata": {},
     "output_type": "display_data"
    }
   ],
   "source": [
    "plt.figure(figsize = [12,6])\n",
    "filter = (df['lifetime_purchase_amt'] !=0)\n",
    "purchase = np.log1p(df[filter]['lifetime_purchase_amt']) #here we take log1p of the distribution for better visualization\n",
    "sns.distplot(purchase)\n",
    "plt.xlabel('Log(Lifetime purchase amount)')\n",
    "plt.show()"
   ]
  },
  {
   "cell_type": "markdown",
   "metadata": {},
   "source": [
    "## <a id='2'>2. Customer Profiling</a>"
   ]
  },
  {
   "cell_type": "markdown",
   "metadata": {},
   "source": [
    " ### <a id='2-1'>2.1 Life time purchase amount</a>\n",
    "First, we plot the distribution of life time purchase amount"
   ]
  },
  {
   "cell_type": "code",
   "execution_count": 14,
   "metadata": {},
   "outputs": [
    {
     "data": {
      "text/plain": [
       "<matplotlib.legend.Legend at 0x191c29ba0f0>"
      ]
     },
     "execution_count": 14,
     "metadata": {},
     "output_type": "execute_result"
    },
    {
     "data": {
      "image/png": "[encoded data removed]",
      "text/plain": [
       "<Figure size 864x288 with 3 Axes>"
      ]
     },
     "metadata": {},
     "output_type": "display_data"
    }
   ],
   "source": [
    "\n",
    "\n",
    "\n",
    "fig = plt.figure(figsize = [12,4])\n",
    "\n",
    "# Divide the figure into a 2x1 grid, and give me the first section\n",
    "ax1 = fig.add_subplot(131)\n",
    "\n",
    "# Divide the figure into a 2x1 grid, and give me the second section\n",
    "ax2 = fig.add_subplot(132)\n",
    "ax3 = fig.add_subplot(133)\n",
    "\n",
    "df[df['shop_a_flg']==1]['gender'].value_counts().plot(kind='pie',ax=ax1,title= 'Shop A',autopct='%1.1f%%',fontsize=12,labels=None)\n",
    "df[df['shop_b_flg']==1]['gender'].value_counts().plot(kind='pie',ax=ax2,title= 'Shop B',autopct='%1.1f%%',fontsize=12,labels=None)\n",
    "df[df['shop_c_flg']==1]['gender'].value_counts().plot(kind='pie',ax=ax3,title= 'Shop C',autopct='%1.1f%%',fontsize=12,labels=None)\n",
    "ax3.legend(['Male','Female','Unknown'])\n",
    "\n",
    "# df.groupby('country').plot(x='year', y='unemployment', , legend=False)\n",
    "# df.groupby('country')['unemployment'].mean().sort_values().plot(kind='barh', ax=ax2)"
   ]
  },
  {
   "cell_type": "markdown",
   "metadata": {},
   "source": [
    "From this we can see that the majority of the customer of the three shops are male customer.However, the interesting observation is that the proportion of male customer is the highest while those of Shop C is lowest amongst the three store "
   ]
  },
  {
   "cell_type": "markdown",
   "metadata": {},
   "source": [
    " ### <a id='2-2'>2.2 Marital Status</a>"
   ]
  },
  {
   "cell_type": "code",
   "execution_count": 15,
   "metadata": {},
   "outputs": [
    {
     "name": "stdout",
     "output_type": "stream",
     "text": [
      "[21.652522395096653, 53.30622347949081, 25.041254125412543]\n",
      "[23.5392881128274, 48.42175957018133, 28.038952316991267]\n",
      "[21.837183718371836, 53.74037403740374, 24.422442244224424]\n"
     ]
    },
    {
     "data": {
      "image/png": "[encoded data removed]",
      "text/plain": [
       "<Figure size 432x288 with 1 Axes>"
      ]
     },
     "metadata": {},
     "output_type": "display_data"
    }
   ],
   "source": [
    "\n",
    "shops= ['shop_a_flg','shop_b_flg','shop_c_flg']\n",
    "  \n",
    "def cal_list_marital(df,columns,list):\n",
    "    slice = df[df[columns] ==1]\n",
    "    total = slice.shape[0] #total number of people for that particular store\n",
    "    unknown = slice[slice['marital_flg'] ==0].shape[0]/total*100\n",
    "    married =slice[slice['marital_flg'] ==1].shape[0]/total*100\n",
    "    single = slice[slice['marital_flg'] ==2].shape[0]/total*100\n",
    "    list.append(unknown)\n",
    "    list.append(married)\n",
    "    list.append(single)\n",
    "    return list\n",
    "shop_a = cal_list_marital(df,'shop_a_flg',[])\n",
    "shop_b = cal_list_marital(df,'shop_b_flg',[])\n",
    "shop_c = cal_list_marital(df,'shop_c_flg',[])\n",
    "print(shop_a)\n",
    "print(shop_b)\n",
    "print(shop_c)\n",
    "\n",
    "barWidth = 0.25\n",
    "r1 = np.arange(len(shop_a))\n",
    "r2 = [x+barWidth for x in r1]\n",
    "r3 = [x+barWidth for x in r2]\n",
    "plt.bar(r1, shop_a, color='#7f6d5f', width=barWidth, edgecolor='white', label='shop A')\n",
    "plt.bar(r2, shop_b, color='#557f2d', width=barWidth, edgecolor='white', label='shop B')\n",
    "plt.bar(r3, shop_c, color='#2d7f5e', width=barWidth, edgecolor='white', label='Shop C')\n",
    " \n",
    "# Add xticks on the middle of the group bars\n",
    "plt.xlabel('group', fontweight='bold')\n",
    "plt.xticks([r + barWidth for r in range(len(shop_a))], ['Unknown', 'Married', 'Single'])\n",
    " \n",
    "# Create legend & Show graphic\n",
    "plt.legend()\n",
    "plt.show()\n",
    "\n"
   ]
  },
  {
   "cell_type": "markdown",
   "metadata": {},
   "source": [
    "In terms of Marital Status, there is not much deviation between all three Shops. The majority is married while many people are not comfortable revealing their marital status too"
   ]
  },
  {
   "cell_type": "markdown",
   "metadata": {},
   "source": [
    " ### <a id='2-3'>2.3 Children</a>"
   ]
  },
  {
   "cell_type": "code",
   "execution_count": 16,
   "metadata": {},
   "outputs": [
    {
     "name": "stdout",
     "output_type": "stream",
     "text": [
      "[21.630913091309132, 45.438472418670436, 32.93061449002043]\n",
      "[23.521099171703604, 37.43703828072532, 39.04186254757108]\n",
      "[21.782178217821784, 50.330033003300336, 27.887788778877887]\n"
     ]
    },
    {
     "data": {
      "image/png": "[encoded data removed]",
      "text/plain": [
       "<Figure size 432x288 with 1 Axes>"
      ]
     },
     "metadata": {},
     "output_type": "display_data"
    }
   ],
   "source": [
    "def cal_list_children(df,columns,list):\n",
    "    slice = df[df[columns] ==1]\n",
    "    total = slice.shape[0] #total number of people for that particular store\n",
    "    unknown = slice[slice['children_flg'] ==0].shape[0]/total*100\n",
    "    have =slice[slice['children_flg'] ==1].shape[0]/total*100\n",
    "    dont_have = slice[slice['children_flg'] ==2].shape[0]/total*100\n",
    "    list.append(unknown)\n",
    "    list.append(have)\n",
    "    list.append(dont_have)\n",
    "    return list\n",
    "\n",
    "shop_a = cal_list_children(df,'shop_a_flg',[])\n",
    "shop_b = cal_list_children(df,'shop_b_flg',[])\n",
    "shop_c = cal_list_children(df,'shop_c_flg',[])\n",
    "print(shop_a)\n",
    "print(shop_b)\n",
    "print(shop_c)\n",
    "\n",
    "barWidth = 0.25\n",
    "r1 = np.arange(len(shop_a))\n",
    "r2 = [x+barWidth for x in r1]\n",
    "r3 = [x+barWidth for x in r2]\n",
    "plt.bar(r1, shop_a, color='#7f6d5f', width=barWidth, edgecolor='white', label='shop A')\n",
    "plt.bar(r2, shop_b, color='#557f2d', width=barWidth, edgecolor='white', label='shop B')\n",
    "plt.bar(r3, shop_c, color='#2d7f5e', width=barWidth, edgecolor='white', label='Shop C')\n",
    " \n",
    "# Add xticks on the middle of the group bars\n",
    "plt.xlabel(\"Chidren status break-down by shop\", fontweight='bold')\n",
    "plt.xticks([r + barWidth for r in range(len(shop_a))], ['Unknown', 'Have Children', 'Doesnt have children'])\n",
    " \n",
    "# Create legend & Show graphic\n",
    "plt.legend()\n",
    "plt.show()\n",
    "\n"
   ]
  },
  {
   "cell_type": "markdown",
   "metadata": {},
   "source": [
    "For the children status, we can see that Shop B people tends to not have children compared to shop A and C while the marital status of all three shop are very similar "
   ]
  },
  {
   "cell_type": "markdown",
   "metadata": {},
   "source": [
    " ### <a id='2-4'>2.4 User age</a>"
   ]
  },
  {
   "cell_type": "code",
   "execution_count": 17,
   "metadata": {},
   "outputs": [
    {
     "data": {
      "text/plain": [
       "<matplotlib.axes._subplots.AxesSubplot at 0x191d17192b0>"
      ]
     },
     "execution_count": 17,
     "metadata": {},
     "output_type": "execute_result"
    },
    {
     "data": {
      "image/png": "[encoded data removed]",
      "text/plain": [
       "<Figure size 432x288 with 1 Axes>"
      ]
     },
     "metadata": {},
     "output_type": "display_data"
    }
   ],
   "source": [
    "#plotting user age distribution\n",
    "sns.distplot( df[df['shop_a_flg'] ==1][\"user_age\"] , color=\"skyblue\", label=\"Shop A\",hist = None)\n",
    "sns.distplot( df[df['shop_b_flg'] ==1][\"user_age\"] , color=\"red\", label=\"Shop B\",hist = None)\n",
    "sns.distplot( df[df['shop_c_flg'] ==1][\"user_age\"] , color=\"green\", label=\"Shop C\",hist = None)\n"
   ]
  },
  {
   "cell_type": "markdown",
   "metadata": {},
   "source": [
    "From the age distribution, we can see that shop A and C age distribution are very similar, with most people in the middle age. However, for shop B, they seem to be more spread out and younger than the rest. It explains why many of the shop B user have not had children yet"
   ]
  },
  {
   "cell_type": "markdown",
   "metadata": {},
   "source": [
    " ### <a id='2-5'>2.5 Life time purchase amount</a>"
   ]
  },
  {
   "cell_type": "code",
   "execution_count": 18,
   "metadata": {},
   "outputs": [
    {
     "data": {
      "text/plain": [
       "<matplotlib.axes._subplots.AxesSubplot at 0x191d7af69e8>"
      ]
     },
     "execution_count": 18,
     "metadata": {},
     "output_type": "execute_result"
    },
    {
     "data": {
      "image/png": "[encoded data removed]",
      "text/plain": [
       "<Figure size 432x288 with 1 Axes>"
      ]
     },
     "metadata": {},
     "output_type": "display_data"
    }
   ],
   "source": [
    "#ploting lifetime_purchase_cnt\n",
    "sns.distplot( np.log1p(df[df['shop_a_flg'] ==1][\"lifetime_purchase_cnt\"]) , color=\"skyblue\", label=\"Shop A\",hist = None)\n",
    "sns.distplot( np.log1p(df[df['shop_b_flg'] ==1][\"lifetime_purchase_cnt\"]) , color=\"red\", label=\"Shop B\",hist = None)\n",
    "sns.distplot( np.log1p(df[df['shop_c_flg'] ==1][\"lifetime_purchase_cnt\"]) , color=\"green\", label=\"Shop C\",hist = None)"
   ]
  },
  {
   "cell_type": "markdown",
   "metadata": {},
   "source": [
    "In this kde distribution plot(with log(lifetime_purchase_cnt), we found out that shop A and B have almost identical dsitribution while people in shop C seem to have a lower purchase count\n",
    "Last but not least, while shop A and C have similar age profile, people in Shop C tend to spend a lot less than people in Shop A and B. It can be referred that people in C have less spending power than A and B"
   ]
  },
  {
   "cell_type": "markdown",
   "metadata": {},
   "source": [
    " ### <a id='2-6'>2.6 Logged-in count </a>"
   ]
  },
  {
   "cell_type": "code",
   "execution_count": 19,
   "metadata": {},
   "outputs": [
    {
     "data": {
      "image/png": "[encoded data removed]",
      "text/plain": [
       "<Figure size 864x360 with 3 Axes>"
      ]
     },
     "metadata": {},
     "output_type": "display_data"
    }
   ],
   "source": [
    "\n",
    "def box_plot(df,col):\n",
    "    shopA = pd.DataFrame(columns=['shop',col])\n",
    "    shopA[col] =np.log1p(df[df['shop_a_flg'] ==1][col])\n",
    "    shopA['shop'] = 'shop_A'\n",
    "\n",
    "\n",
    "\n",
    "    shopB = pd.DataFrame(columns=['shop',col])\n",
    "    shopB[col] =np.log1p(df[df['shop_b_flg'] ==1][col])\n",
    "    shopB['shop'] = 'shop_B'\n",
    "\n",
    "    shopC = pd.DataFrame(columns=['shop',col])\n",
    "    shopC[col] =np.log1p(df[df['shop_c_flg'] ==1][col])\n",
    "    shopC['shop'] = 'shop_C'\n",
    "\n",
    "    frames = [shopA, shopB, shopC]\n",
    "    result = pd.concat(frames)\n",
    "    result[result['shop'] =='shop_C']\n",
    "\n",
    "    result.reset_index(drop=True)\n",
    "    return result\n",
    "\n",
    "    # result[result['shop'] == 'shop_A']\n",
    "f, axes = plt.subplots(1, 3,figsize=(12,5))\n",
    "sns.boxplot(x=\"shop\", y=\"login_cnt_1m\", data=box_plot(df,\"login_cnt_1m\"),ax = axes[0])\n",
    "sns.boxplot(x=\"shop\", y=\"login_cnt_3m\", data=box_plot(df,\"login_cnt_3m\"),ax = axes[1])\n",
    "sns.boxplot(x=\"shop\", y=\"login_cnt_6m\", data=box_plot(df,\"login_cnt_6m\"),ax = axes[2])\n",
    "fig.tight_layout()"
   ]
  },
  {
   "cell_type": "code",
   "execution_count": 20,
   "metadata": {},
   "outputs": [
    {
     "data": {
      "image/png": "[encoded data removed]",
      "text/plain": [
       "<Figure size 1296x288 with 3 Axes>"
      ]
     },
     "metadata": {},
     "output_type": "display_data"
    }
   ],
   "source": [
    "f, axes = plt.subplots(1, 3,figsize=(18,4))\n",
    "\n",
    "sns.distplot( np.log1p(df[df['shop_a_flg'] ==1][\"login_cnt_1m\"]) , color=\"skyblue\", label=\"Shop A\",hist = None,ax = axes[0])\n",
    "sns.distplot( np.log1p(df[df['shop_b_flg'] ==1][\"login_cnt_1m\"]) , color=\"red\", label=\"Shop B\",hist = None,ax = axes[0])\n",
    "sns.distplot( np.log1p(df[df['shop_c_flg'] ==1][\"login_cnt_1m\"]) , color=\"green\", label=\"Shop C\",hist = None,ax = axes[0])\n",
    "\n",
    "\n",
    "sns.distplot( np.log1p(df[df['shop_a_flg'] ==1][\"login_cnt_3m\"]) , color=\"skyblue\", label=\"Shop A\",hist = None,ax = axes[1])\n",
    "sns.distplot( np.log1p(df[df['shop_b_flg'] ==1][\"login_cnt_3m\"]) , color=\"red\", label=\"Shop B\",hist = None,ax = axes[1])\n",
    "sns.distplot( np.log1p(df[df['shop_c_flg'] ==1][\"login_cnt_3m\"]) , color=\"green\", label=\"Shop C\",hist = None,ax = axes[1])\n",
    "\n",
    "\n",
    "sns.distplot( np.log1p(df[df['shop_a_flg'] ==1][\"login_cnt_6m\"]) , color=\"skyblue\", label=\"Shop A\",hist = None,ax = axes[2])\n",
    "sns.distplot( np.log1p(df[df['shop_b_flg'] ==1][\"login_cnt_6m\"]) , color=\"red\", label=\"Shop B\",hist = None,ax = axes[2])\n",
    "sns.distplot( np.log1p(df[df['shop_c_flg'] ==1][\"login_cnt_6m\"]) , color=\"green\", label=\"Shop C\",hist = None,ax = axes[2])\n",
    "plt.title('Distribution of log of login count')\n",
    "plt.show()"
   ]
  },
  {
   "cell_type": "markdown",
   "metadata": {},
   "source": [
    "From the distribution graph and the box plot graph, we can see that Shop C experiences much less traffic compared to the other shop( A and B)"
   ]
  },
  {
   "cell_type": "markdown",
   "metadata": {},
   "source": [
    "## <a id='3'>3. Customer Recommendation</a>"
   ]
  },
  {
   "cell_type": "markdown",
   "metadata": {},
   "source": [
    " ### <a id='3-1'>3.1 Random Forest Classifier</a>"
   ]
  },
  {
   "cell_type": "code",
   "execution_count": 21,
   "metadata": {},
   "outputs": [
    {
     "name": "stdout",
     "output_type": "stream",
     "text": [
      "people who have not purchase from shop A :910094\n",
      "people who have already purchase from shop A :50904\n"
     ]
    }
   ],
   "source": [
    "# first we have to extract the list of user for prediction\n",
    "from sklearn.ensemble import RandomForestClassifier\n",
    "from sklearn.model_selection import train_test_split\n",
    "from sklearn.metrics import mean_squared_error as MSE\n",
    "SEED = 1 #reproducibility\n",
    "\n",
    "positive = df[df['shop_a_flg']==1]\n",
    "negative = df[df['shop_b_flg']==0]\n",
    "print('people who have not purchase from shop A :{}'.format(negative.shape[0]))\n",
    "print('people who have already purchase from shop A :{}'.format(positive.shape[0]))\n"
   ]
  },
  {
   "cell_type": "markdown",
   "metadata": {},
   "source": [
    "since there are so many people who has not purchase from shop A( 910094 vs 50094) we decide to take a sample of people who have not purchase from shop A to train our model.\n",
    "We willl sample 50000 row so that there will not be imbalance of data"
   ]
  },
  {
   "cell_type": "code",
   "execution_count": 22,
   "metadata": {},
   "outputs": [
    {
     "data": {
      "text/plain": [
       "(50904, 15)"
      ]
     },
     "execution_count": 22,
     "metadata": {},
     "output_type": "execute_result"
    }
   ],
   "source": [
    "train_negative, test_negative = train_test_split(negative, test_size=(1-(positive.shape[0]/negative.shape[0])),random_state = SEED)\n",
    "\n",
    "\n",
    "# negative_subset = negative.sample(n = 50000,random_state=SEED).reset_index(drop =True)\n",
    "train_negative.shape"
   ]
  },
  {
   "cell_type": "code",
   "execution_count": 23,
   "metadata": {},
   "outputs": [],
   "source": [
    "df_train = pd.concat([train_negative,positive]).reset_index(drop=True)"
   ]
  },
  {
   "cell_type": "code",
   "execution_count": 24,
   "metadata": {},
   "outputs": [
    {
     "name": "stdout",
     "output_type": "stream",
     "text": [
      "Test set RMSE of rf : 0.48\n",
      "Wall time: 7.94 s\n"
     ]
    }
   ],
   "source": [
    "%%time\n",
    "y = df_train['shop_a_flg']\n",
    "X = df_train.drop(['shop_a_flg','user_id'],axis = 1)\n",
    "#split the model into 30% test 70% train\n",
    "X_train, X_test, y_train, y_test = train_test_split(X,y,test_size = 0.3, random_state = SEED)\n",
    "rf = RandomForestClassifier( n_estimators = 400, min_samples_leaf = 0.12 , random_state= SEED)\n",
    "\n",
    "#fit the model\n",
    "rf.fit(X_train,y_train)\n",
    "y_pred = rf.predict(X_test)\n",
    "rmse_test = MSE(y_test,y_pred)**(1/2)\n",
    "print('Test set RMSE of rf : {:.2f}'.format(rmse_test))"
   ]
  },
  {
   "cell_type": "code",
   "execution_count": 25,
   "metadata": {},
   "outputs": [
    {
     "data": {
      "image/png": "[encoded data removed]",
      "text/plain": [
       "<Figure size 432x288 with 1 Axes>"
      ]
     },
     "metadata": {},
     "output_type": "display_data"
    }
   ],
   "source": [
    "#feature important \n",
    "importances_rf = pd.Series(rf.feature_importances_, index = X.columns)\n",
    "\n",
    "#plot the graph\n",
    "sorted_importances_rf = importances_rf.sort_values()\n",
    "sorted_importances_rf.plot(kind='barh',color='green')\n",
    "plt.show()"
   ]
  },
  {
   "cell_type": "code",
   "execution_count": 26,
   "metadata": {},
   "outputs": [
    {
     "name": "stdout",
     "output_type": "stream",
     "text": [
      "Wall time: 21.1 s\n"
     ]
    }
   ],
   "source": [
    "%%time\n",
    "user_id = test_negative['user_id'].reset_index(drop=True)\n",
    "\n",
    "test_set = test_negative.drop(['user_id','shop_a_flg'],axis = 1 )\n",
    "\n",
    "result = rf.predict(test_set)\n",
    "submission = pd.DataFrame(result,columns = ['prediction'])\n",
    "submission['user_id']=user_id\n",
    "submission[submission['prediction']==1].to_csv('Random_Forest.csv',index=False)"
   ]
  },
  {
   "cell_type": "markdown",
   "metadata": {
    "collapsed": true
   },
   "source": [
    " ### <a id='3-2'>3.2 Collaborative Filtering</a>"
   ]
  },
  {
   "cell_type": "code",
   "execution_count": 27,
   "metadata": {},
   "outputs": [
    {
     "data": {
      "text/html": [
       "<div>\n",
       "<style scoped>\n",
       "    .dataframe tbody tr th:only-of-type {\n",
       "        vertical-align: middle;\n",
       "    }\n",
       "\n",
       "    .dataframe tbody tr th {\n",
       "        vertical-align: top;\n",
       "    }\n",
       "\n",
       "    .dataframe thead th {\n",
       "        text-align: right;\n",
       "    }\n",
       "</style>\n",
       "<table border=\"1\" class=\"dataframe\">\n",
       "  <thead>\n",
       "    <tr style=\"text-align: right;\">\n",
       "      <th></th>\n",
       "      <th>gender</th>\n",
       "      <th>user_age</th>\n",
       "      <th>area_code</th>\n",
       "      <th>marital_flg</th>\n",
       "      <th>children_flg</th>\n",
       "      <th>lifetime_purchase_amt</th>\n",
       "      <th>lifetime_purchase_cnt</th>\n",
       "      <th>login_cnt_1m</th>\n",
       "      <th>login_cnt_3m</th>\n",
       "      <th>login_cnt_6m</th>\n",
       "      <th>shop_a_flg</th>\n",
       "      <th>shop_b_flg</th>\n",
       "      <th>shop_c_flg</th>\n",
       "      <th>log_lifetime_purchase_amt</th>\n",
       "      <th>user_id</th>\n",
       "    </tr>\n",
       "  </thead>\n",
       "  <tbody>\n",
       "    <tr>\n",
       "      <th>0</th>\n",
       "      <td>1.0</td>\n",
       "      <td>0.575758</td>\n",
       "      <td>0.456522</td>\n",
       "      <td>0.5</td>\n",
       "      <td>0.5</td>\n",
       "      <td>0.000391</td>\n",
       "      <td>0.003538</td>\n",
       "      <td>0.000559</td>\n",
       "      <td>0.000523</td>\n",
       "      <td>0.000602</td>\n",
       "      <td>1.0</td>\n",
       "      <td>0.0</td>\n",
       "      <td>0.0</td>\n",
       "      <td>0.490373</td>\n",
       "      <td>0.0</td>\n",
       "    </tr>\n",
       "    <tr>\n",
       "      <th>1</th>\n",
       "      <td>1.0</td>\n",
       "      <td>0.545455</td>\n",
       "      <td>0.260870</td>\n",
       "      <td>0.0</td>\n",
       "      <td>0.0</td>\n",
       "      <td>0.009549</td>\n",
       "      <td>0.028782</td>\n",
       "      <td>0.000663</td>\n",
       "      <td>0.000598</td>\n",
       "      <td>0.000788</td>\n",
       "      <td>0.0</td>\n",
       "      <td>1.0</td>\n",
       "      <td>0.0</td>\n",
       "      <td>0.697906</td>\n",
       "      <td>1.0</td>\n",
       "    </tr>\n",
       "    <tr>\n",
       "      <th>2</th>\n",
       "      <td>1.0</td>\n",
       "      <td>0.424242</td>\n",
       "      <td>0.413043</td>\n",
       "      <td>1.0</td>\n",
       "      <td>1.0</td>\n",
       "      <td>0.009287</td>\n",
       "      <td>0.021336</td>\n",
       "      <td>0.001030</td>\n",
       "      <td>0.000930</td>\n",
       "      <td>0.000910</td>\n",
       "      <td>1.0</td>\n",
       "      <td>0.0</td>\n",
       "      <td>0.0</td>\n",
       "      <td>0.696094</td>\n",
       "      <td>2.0</td>\n",
       "    </tr>\n",
       "    <tr>\n",
       "      <th>3</th>\n",
       "      <td>0.5</td>\n",
       "      <td>0.555556</td>\n",
       "      <td>0.543478</td>\n",
       "      <td>0.5</td>\n",
       "      <td>0.5</td>\n",
       "      <td>0.015577</td>\n",
       "      <td>0.035655</td>\n",
       "      <td>0.000611</td>\n",
       "      <td>0.000848</td>\n",
       "      <td>0.001096</td>\n",
       "      <td>0.0</td>\n",
       "      <td>1.0</td>\n",
       "      <td>0.0</td>\n",
       "      <td>0.729688</td>\n",
       "      <td>3.0</td>\n",
       "    </tr>\n",
       "    <tr>\n",
       "      <th>4</th>\n",
       "      <td>1.0</td>\n",
       "      <td>0.555556</td>\n",
       "      <td>0.260870</td>\n",
       "      <td>0.5</td>\n",
       "      <td>0.5</td>\n",
       "      <td>0.010390</td>\n",
       "      <td>0.032595</td>\n",
       "      <td>0.001798</td>\n",
       "      <td>0.002428</td>\n",
       "      <td>0.002640</td>\n",
       "      <td>0.0</td>\n",
       "      <td>1.0</td>\n",
       "      <td>0.0</td>\n",
       "      <td>0.703383</td>\n",
       "      <td>4.0</td>\n",
       "    </tr>\n",
       "    <tr>\n",
       "      <th>5</th>\n",
       "      <td>0.5</td>\n",
       "      <td>0.505051</td>\n",
       "      <td>0.891304</td>\n",
       "      <td>0.5</td>\n",
       "      <td>0.5</td>\n",
       "      <td>0.001864</td>\n",
       "      <td>0.004339</td>\n",
       "      <td>0.000035</td>\n",
       "      <td>0.000279</td>\n",
       "      <td>0.000269</td>\n",
       "      <td>0.0</td>\n",
       "      <td>1.0</td>\n",
       "      <td>0.0</td>\n",
       "      <td>0.591793</td>\n",
       "      <td>5.0</td>\n",
       "    </tr>\n",
       "    <tr>\n",
       "      <th>6</th>\n",
       "      <td>1.0</td>\n",
       "      <td>0.575758</td>\n",
       "      <td>0.260870</td>\n",
       "      <td>0.0</td>\n",
       "      <td>0.0</td>\n",
       "      <td>0.003837</td>\n",
       "      <td>0.012670</td>\n",
       "      <td>0.000436</td>\n",
       "      <td>0.000651</td>\n",
       "      <td>0.000522</td>\n",
       "      <td>1.0</td>\n",
       "      <td>0.0</td>\n",
       "      <td>0.0</td>\n",
       "      <td>0.638687</td>\n",
       "      <td>6.0</td>\n",
       "    </tr>\n",
       "    <tr>\n",
       "      <th>7</th>\n",
       "      <td>1.0</td>\n",
       "      <td>0.555556</td>\n",
       "      <td>0.304348</td>\n",
       "      <td>1.0</td>\n",
       "      <td>1.0</td>\n",
       "      <td>0.002094</td>\n",
       "      <td>0.012813</td>\n",
       "      <td>0.002182</td>\n",
       "      <td>0.002487</td>\n",
       "      <td>0.002618</td>\n",
       "      <td>0.0</td>\n",
       "      <td>1.0</td>\n",
       "      <td>0.0</td>\n",
       "      <td>0.599354</td>\n",
       "      <td>7.0</td>\n",
       "    </tr>\n",
       "    <tr>\n",
       "      <th>8</th>\n",
       "      <td>0.5</td>\n",
       "      <td>0.414141</td>\n",
       "      <td>0.260870</td>\n",
       "      <td>0.0</td>\n",
       "      <td>0.0</td>\n",
       "      <td>0.000740</td>\n",
       "      <td>0.002187</td>\n",
       "      <td>0.000297</td>\n",
       "      <td>0.000314</td>\n",
       "      <td>0.000426</td>\n",
       "      <td>0.0</td>\n",
       "      <td>1.0</td>\n",
       "      <td>0.0</td>\n",
       "      <td>0.531819</td>\n",
       "      <td>8.0</td>\n",
       "    </tr>\n",
       "    <tr>\n",
       "      <th>9</th>\n",
       "      <td>1.0</td>\n",
       "      <td>0.525253</td>\n",
       "      <td>0.695652</td>\n",
       "      <td>1.0</td>\n",
       "      <td>1.0</td>\n",
       "      <td>0.007621</td>\n",
       "      <td>0.022555</td>\n",
       "      <td>0.000541</td>\n",
       "      <td>0.000773</td>\n",
       "      <td>0.000715</td>\n",
       "      <td>1.0</td>\n",
       "      <td>0.0</td>\n",
       "      <td>0.0</td>\n",
       "      <td>0.683254</td>\n",
       "      <td>9.0</td>\n",
       "    </tr>\n",
       "  </tbody>\n",
       "</table>\n",
       "</div>"
      ],
      "text/plain": [
       "   gender  user_age  area_code  marital_flg  children_flg  \\\n",
       "0     1.0  0.575758   0.456522          0.5           0.5   \n",
       "1     1.0  0.545455   0.260870          0.0           0.0   \n",
       "2     1.0  0.424242   0.413043          1.0           1.0   \n",
       "3     0.5  0.555556   0.543478          0.5           0.5   \n",
       "4     1.0  0.555556   0.260870          0.5           0.5   \n",
       "5     0.5  0.505051   0.891304          0.5           0.5   \n",
       "6     1.0  0.575758   0.260870          0.0           0.0   \n",
       "7     1.0  0.555556   0.304348          1.0           1.0   \n",
       "8     0.5  0.414141   0.260870          0.0           0.0   \n",
       "9     1.0  0.525253   0.695652          1.0           1.0   \n",
       "\n",
       "   lifetime_purchase_amt  lifetime_purchase_cnt  login_cnt_1m  login_cnt_3m  \\\n",
       "0               0.000391               0.003538      0.000559      0.000523   \n",
       "1               0.009549               0.028782      0.000663      0.000598   \n",
       "2               0.009287               0.021336      0.001030      0.000930   \n",
       "3               0.015577               0.035655      0.000611      0.000848   \n",
       "4               0.010390               0.032595      0.001798      0.002428   \n",
       "5               0.001864               0.004339      0.000035      0.000279   \n",
       "6               0.003837               0.012670      0.000436      0.000651   \n",
       "7               0.002094               0.012813      0.002182      0.002487   \n",
       "8               0.000740               0.002187      0.000297      0.000314   \n",
       "9               0.007621               0.022555      0.000541      0.000773   \n",
       "\n",
       "   login_cnt_6m  shop_a_flg  shop_b_flg  shop_c_flg  \\\n",
       "0      0.000602         1.0         0.0         0.0   \n",
       "1      0.000788         0.0         1.0         0.0   \n",
       "2      0.000910         1.0         0.0         0.0   \n",
       "3      0.001096         0.0         1.0         0.0   \n",
       "4      0.002640         0.0         1.0         0.0   \n",
       "5      0.000269         0.0         1.0         0.0   \n",
       "6      0.000522         1.0         0.0         0.0   \n",
       "7      0.002618         0.0         1.0         0.0   \n",
       "8      0.000426         0.0         1.0         0.0   \n",
       "9      0.000715         1.0         0.0         0.0   \n",
       "\n",
       "   log_lifetime_purchase_amt  user_id  \n",
       "0                   0.490373      0.0  \n",
       "1                   0.697906      1.0  \n",
       "2                   0.696094      2.0  \n",
       "3                   0.729688      3.0  \n",
       "4                   0.703383      4.0  \n",
       "5                   0.591793      5.0  \n",
       "6                   0.638687      6.0  \n",
       "7                   0.599354      7.0  \n",
       "8                   0.531819      8.0  \n",
       "9                   0.683254      9.0  "
      ]
     },
     "execution_count": 27,
     "metadata": {},
     "output_type": "execute_result"
    }
   ],
   "source": [
    "'''first we have to melt the dataset so that there will be only three column [ user_id , feature , value ]\n",
    "\n",
    "'''\n",
    "#First we have to normalize the data since the data range varies from column to column \n",
    "from sklearn import preprocessing\n",
    "min_max_scaler = preprocessing.MinMaxScaler()\n",
    "user_id_col = df['user_id']\n",
    "normalized_col = df.iloc[:, 1:].columns #get the column name so that we can put in back inside later\n",
    "np_scaled = min_max_scaler.fit_transform(df.iloc[:, 1:])\n",
    "df_normalized = pd.DataFrame(np_scaled,columns= normalized_col)\n",
    "\n",
    "\n",
    "#put back the id column \n",
    "df_normalized['user_id'] = user_id_col\n",
    "df_normalized.head(10)\n",
    "\n",
    "\n",
    "#filter out those with no"
   ]
  },
  {
   "cell_type": "code",
   "execution_count": 28,
   "metadata": {},
   "outputs": [],
   "source": [
    "#now we have to melt / pivot the data into three column : user_id, feature, value \n",
    "train_df = pd.melt(df_normalized, id_vars=['user_id'], var_name='Metric', value_name='Score')\n",
    "train_df = train_df[(train_df['Metric'] =='shop_a_flg') & (train_df['Score'] > 0)]\n"
   ]
  },
  {
   "cell_type": "code",
   "execution_count": 29,
   "metadata": {},
   "outputs": [],
   "source": [
    "from surprise import SVD\n",
    "from surprise import Dataset\n",
    "from surprise import Reader, Dataset, SVD, evaluate\n",
    "reader = Reader()\n",
    "data = Dataset.load_from_df(train_df, reader)\n",
    "data.split(n_folds=5)"
   ]
  },
  {
   "cell_type": "code",
   "execution_count": 30,
   "metadata": {},
   "outputs": [
    {
     "name": "stderr",
     "output_type": "stream",
     "text": [
      "C:\\Users\\daotung.thanh\\AppData\\Local\\Continuum\\anaconda3\\lib\\site-packages\\surprise\\evaluate.py:66: UserWarning: The evaluate() method is deprecated. Please use model_selection.cross_validate() instead.\n",
      "  'model_selection.cross_validate() instead.', UserWarning)\n",
      "C:\\Users\\daotung.thanh\\AppData\\Local\\Continuum\\anaconda3\\lib\\site-packages\\surprise\\dataset.py:193: UserWarning: Using data.split() or using load_from_folds() without using a CV iterator is now deprecated. \n",
      "  UserWarning)\n"
     ]
    },
    {
     "name": "stdout",
     "output_type": "stream",
     "text": [
      "Evaluating RMSE, MAE of algorithm SVD.\n",
      "\n",
      "------------\n",
      "Fold 1\n",
      "RMSE: 0.0000\n",
      "MAE:  0.0000\n",
      "------------\n",
      "Fold 2\n",
      "RMSE: 0.0000\n",
      "MAE:  0.0000\n",
      "------------\n",
      "Fold 3\n",
      "RMSE: 0.0000\n",
      "MAE:  0.0000\n",
      "------------\n",
      "Fold 4\n",
      "RMSE: 0.0000\n",
      "MAE:  0.0000\n",
      "------------\n",
      "Fold 5\n",
      "RMSE: 0.0000\n",
      "MAE:  0.0000\n",
      "------------\n",
      "------------\n",
      "Mean RMSE: 0.0000\n",
      "Mean MAE : 0.0000\n",
      "------------\n",
      "------------\n"
     ]
    },
    {
     "data": {
      "text/plain": [
       "CaseInsensitiveDefaultDict(list,\n",
       "                           {'rmse': [0.0,\n",
       "                             1.7687304421087902e-07,\n",
       "                             0.0,\n",
       "                             2.3727120002092756e-07,\n",
       "                             0.0],\n",
       "                            'mae': [0.0,\n",
       "                             1.7687304421087902e-07,\n",
       "                             0.0,\n",
       "                             2.372712000209276e-07,\n",
       "                             0.0]})"
      ]
     },
     "execution_count": 30,
     "metadata": {},
     "output_type": "execute_result"
    }
   ],
   "source": [
    "svd = SVD()\n",
    "evaluate(svd, data, measures=['RMSE', 'MAE'])"
   ]
  },
  {
   "cell_type": "code",
   "execution_count": 31,
   "metadata": {},
   "outputs": [],
   "source": [
    "#create a list of user who did not purchase from shop A\n",
    "test_id = df[df['shop_a_flg']==0]['user_id'].values\n",
    "submission_list = {'userid':[],'predicted':[]}\n",
    "for i in range(len(test_id)):\n",
    "    score = svd.predict(test_id[i],'shop_a_flg')[3] #take out the score value \n",
    "    submission_list['predicted'].append(score)\n",
    "    submission_list['userid'].append(test_id[i])\n",
    "    \n",
    "# tung = svd.predict(0,'shop_a_flg')\n"
   ]
  },
  {
   "cell_type": "code",
   "execution_count": 32,
   "metadata": {},
   "outputs": [],
   "source": [
    "df_result = pd.DataFrame.from_dict(submission_list)\n",
    "CF_submission = df_result[df_result['predicted']>1]['userid']\n",
    "CF_submission.to_csv('Colab_Filtering.csv',index=False)"
   ]
  },
  {
   "cell_type": "code",
   "execution_count": null,
   "metadata": {},
   "outputs": [],
   "source": []
  }
 ],
 "metadata": {
  "kernelspec": {
   "display_name": "Python 3",
   "language": "python",
   "name": "python3"
  },
  "language_info": {
   "codemirror_mode": {
    "name": "ipython",
    "version": 3
   },
   "file_extension": ".py",
   "mimetype": "text/x-python",
   "name": "python",
   "nbconvert_exporter": "python",
   "pygments_lexer": "ipython3",
   "version": "3.6.8"
  }
 },
 "nbformat": 4,
 "nbformat_minor": 2
}
